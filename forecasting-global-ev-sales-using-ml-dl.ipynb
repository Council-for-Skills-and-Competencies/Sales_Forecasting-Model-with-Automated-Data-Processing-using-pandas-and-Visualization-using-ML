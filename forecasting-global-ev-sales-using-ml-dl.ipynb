{
 "cells": [
  {
   "cell_type": "markdown",
   "id": "97b98061",
   "metadata": {
    "papermill": {
     "duration": 0.022407,
     "end_time": "2025-05-24T00:00:07.392198",
     "exception": false,
     "start_time": "2025-05-24T00:00:07.369791",
     "status": "completed"
    },
    "tags": []
   },
   "source": [
    "## Import necessary libraries"
   ]
  },
  {
   "cell_type": "code",
   "execution_count": 70,
   "id": "f8ba2031",
   "metadata": {
    "_cell_guid": "b1076dfc-b9ad-4769-8c92-a6c4dae69d19",
    "_uuid": "8f2839f25d086af736a60e9eeb907d3b93b6e0e5",
    "execution": {
     "iopub.execute_input": "2025-05-24T00:00:07.437360Z",
     "iopub.status.busy": "2025-05-24T00:00:07.436772Z",
     "iopub.status.idle": "2025-05-24T00:00:40.408445Z",
     "shell.execute_reply": "2025-05-24T00:00:40.407060Z"
    },
    "papermill": {
     "duration": 33.011253,
     "end_time": "2025-05-24T00:00:40.422833",
     "exception": false,
     "start_time": "2025-05-24T00:00:07.411580",
     "status": "completed"
    },
    "tags": []
   },
   "outputs": [],
   "source": [
    "import numpy as np\n",
    "import pandas as pd \n",
    "import matplotlib.pyplot as plt\n",
    "import seaborn as sns\n",
    "import time\n",
    "from sklearn.linear_model import LinearRegression, Ridge, Lasso, ElasticNet\n",
    "from sklearn.tree import DecisionTreeRegressor\n",
    "from sklearn.ensemble import RandomForestRegressor, GradientBoostingRegressor, AdaBoostRegressor\n",
    "from sklearn.preprocessing import MinMaxScaler\n",
    "from tensorflow.keras.layers import LSTM\n",
    "from tensorflow.keras.models import Sequential\n",
    "from tensorflow.keras.layers import Dense\n",
    "from sklearn.metrics import mean_squared_error, r2_score\n",
    "from sklearn.model_selection import train_test_split\n",
    "import tensorflow as tf\n",
    "import warnings\n",
    "warnings.filterwarnings(\"ignore\")"
   ]
  },
  {
   "cell_type": "markdown",
   "id": "84799001",
   "metadata": {
    "papermill": {
     "duration": 0.014503,
     "end_time": "2025-05-24T00:00:40.450750",
     "exception": false,
     "start_time": "2025-05-24T00:00:40.436247",
     "status": "completed"
    },
    "tags": []
   },
   "source": [
    "## Load the dataset"
   ]
  },
  {
   "cell_type": "code",
   "execution_count": null,
   "id": "ce4570dd",
   "metadata": {
    "execution": {
     "iopub.execute_input": "2025-05-24T00:00:40.478419Z",
     "iopub.status.busy": "2025-05-24T00:00:40.477742Z",
     "iopub.status.idle": "2025-05-24T00:00:40.506309Z",
     "shell.execute_reply": "2025-05-24T00:00:40.505050Z"
    },
    "papermill": {
     "duration": 0.044551,
     "end_time": "2025-05-24T00:00:40.508292",
     "exception": false,
     "start_time": "2025-05-24T00:00:40.463741",
     "status": "completed"
    },
    "tags": []
   },
   "outputs": [],
   "source": [
    "df = pd.read_csv(\"IEA-EV-dataEV salesHistoricalCars.csv\")"
   ]
  },
  {
   "cell_type": "markdown",
   "id": "6a31ac3c",
   "metadata": {
    "papermill": {
     "duration": 0.013163,
     "end_time": "2025-05-24T00:00:40.534455",
     "exception": false,
     "start_time": "2025-05-24T00:00:40.521292",
     "status": "completed"
    },
    "tags": []
   },
   "source": [
    "## Show dataset shape"
   ]
  },
  {
   "cell_type": "code",
   "execution_count": 3,
   "id": "ac114a4a",
   "metadata": {
    "execution": {
     "iopub.execute_input": "2025-05-24T00:00:40.635763Z",
     "iopub.status.busy": "2025-05-24T00:00:40.635391Z",
     "iopub.status.idle": "2025-05-24T00:00:40.641396Z",
     "shell.execute_reply": "2025-05-24T00:00:40.640308Z"
    },
    "papermill": {
     "duration": 0.094818,
     "end_time": "2025-05-24T00:00:40.642906",
     "exception": false,
     "start_time": "2025-05-24T00:00:40.548088",
     "status": "completed"
    },
    "tags": []
   },
   "outputs": [
    {
     "name": "stdout",
     "output_type": "stream",
     "text": [
      "Dataset shape: (3798, 8)\n"
     ]
    }
   ],
   "source": [
    "print(\"Dataset shape:\", df.shape)"
   ]
  },
  {
   "cell_type": "markdown",
   "id": "7e57011b",
   "metadata": {
    "papermill": {
     "duration": 0.01385,
     "end_time": "2025-05-24T00:00:40.671035",
     "exception": false,
     "start_time": "2025-05-24T00:00:40.657185",
     "status": "completed"
    },
    "tags": []
   },
   "source": [
    "##  Display column names"
   ]
  },
  {
   "cell_type": "code",
   "execution_count": 4,
   "id": "db76c38e",
   "metadata": {
    "execution": {
     "iopub.execute_input": "2025-05-24T00:00:40.699645Z",
     "iopub.status.busy": "2025-05-24T00:00:40.698483Z",
     "iopub.status.idle": "2025-05-24T00:00:40.704464Z",
     "shell.execute_reply": "2025-05-24T00:00:40.703040Z"
    },
    "papermill": {
     "duration": 0.021958,
     "end_time": "2025-05-24T00:00:40.706651",
     "exception": false,
     "start_time": "2025-05-24T00:00:40.684693",
     "status": "completed"
    },
    "tags": []
   },
   "outputs": [
    {
     "name": "stdout",
     "output_type": "stream",
     "text": [
      "\n",
      "Column names:\n",
      " ['region', 'category', 'parameter', 'mode', 'powertrain', 'year', 'unit', 'value']\n"
     ]
    }
   ],
   "source": [
    "print(\"\\nColumn names:\\n\", df.columns.tolist())"
   ]
  },
  {
   "cell_type": "markdown",
   "id": "59cae2c7",
   "metadata": {
    "papermill": {
     "duration": 0.013697,
     "end_time": "2025-05-24T00:00:40.734182",
     "exception": false,
     "start_time": "2025-05-24T00:00:40.720485",
     "status": "completed"
    },
    "tags": []
   },
   "source": [
    "## Show the first 5 rows"
   ]
  },
  {
   "cell_type": "code",
   "execution_count": 5,
   "id": "8ad8251f",
   "metadata": {
    "execution": {
     "iopub.execute_input": "2025-05-24T00:00:40.766350Z",
     "iopub.status.busy": "2025-05-24T00:00:40.765990Z",
     "iopub.status.idle": "2025-05-24T00:00:40.795418Z",
     "shell.execute_reply": "2025-05-24T00:00:40.794239Z"
    },
    "papermill": {
     "duration": 0.047855,
     "end_time": "2025-05-24T00:00:40.797037",
     "exception": false,
     "start_time": "2025-05-24T00:00:40.749182",
     "status": "completed"
    },
    "tags": []
   },
   "outputs": [
    {
     "data": {
      "text/html": [
       "<div>\n",
       "<style scoped>\n",
       "    .dataframe tbody tr th:only-of-type {\n",
       "        vertical-align: middle;\n",
       "    }\n",
       "\n",
       "    .dataframe tbody tr th {\n",
       "        vertical-align: top;\n",
       "    }\n",
       "\n",
       "    .dataframe thead th {\n",
       "        text-align: right;\n",
       "    }\n",
       "</style>\n",
       "<table border=\"1\" class=\"dataframe\">\n",
       "  <thead>\n",
       "    <tr style=\"text-align: right;\">\n",
       "      <th></th>\n",
       "      <th>region</th>\n",
       "      <th>category</th>\n",
       "      <th>parameter</th>\n",
       "      <th>mode</th>\n",
       "      <th>powertrain</th>\n",
       "      <th>year</th>\n",
       "      <th>unit</th>\n",
       "      <th>value</th>\n",
       "    </tr>\n",
       "  </thead>\n",
       "  <tbody>\n",
       "    <tr>\n",
       "      <th>0</th>\n",
       "      <td>Australia</td>\n",
       "      <td>Historical</td>\n",
       "      <td>EV sales</td>\n",
       "      <td>Cars</td>\n",
       "      <td>BEV</td>\n",
       "      <td>2011</td>\n",
       "      <td>Vehicles</td>\n",
       "      <td>49.00000</td>\n",
       "    </tr>\n",
       "    <tr>\n",
       "      <th>1</th>\n",
       "      <td>Australia</td>\n",
       "      <td>Historical</td>\n",
       "      <td>EV stock share</td>\n",
       "      <td>Cars</td>\n",
       "      <td>EV</td>\n",
       "      <td>2011</td>\n",
       "      <td>percent</td>\n",
       "      <td>0.00039</td>\n",
       "    </tr>\n",
       "    <tr>\n",
       "      <th>2</th>\n",
       "      <td>Australia</td>\n",
       "      <td>Historical</td>\n",
       "      <td>EV sales share</td>\n",
       "      <td>Cars</td>\n",
       "      <td>EV</td>\n",
       "      <td>2011</td>\n",
       "      <td>percent</td>\n",
       "      <td>0.00650</td>\n",
       "    </tr>\n",
       "    <tr>\n",
       "      <th>3</th>\n",
       "      <td>Australia</td>\n",
       "      <td>Historical</td>\n",
       "      <td>EV stock</td>\n",
       "      <td>Cars</td>\n",
       "      <td>BEV</td>\n",
       "      <td>2011</td>\n",
       "      <td>Vehicles</td>\n",
       "      <td>49.00000</td>\n",
       "    </tr>\n",
       "    <tr>\n",
       "      <th>4</th>\n",
       "      <td>Australia</td>\n",
       "      <td>Historical</td>\n",
       "      <td>EV stock</td>\n",
       "      <td>Cars</td>\n",
       "      <td>BEV</td>\n",
       "      <td>2012</td>\n",
       "      <td>Vehicles</td>\n",
       "      <td>220.00000</td>\n",
       "    </tr>\n",
       "  </tbody>\n",
       "</table>\n",
       "</div>"
      ],
      "text/plain": [
       "      region    category       parameter  mode powertrain  year      unit  \\\n",
       "0  Australia  Historical        EV sales  Cars        BEV  2011  Vehicles   \n",
       "1  Australia  Historical  EV stock share  Cars         EV  2011   percent   \n",
       "2  Australia  Historical  EV sales share  Cars         EV  2011   percent   \n",
       "3  Australia  Historical        EV stock  Cars        BEV  2011  Vehicles   \n",
       "4  Australia  Historical        EV stock  Cars        BEV  2012  Vehicles   \n",
       "\n",
       "       value  \n",
       "0   49.00000  \n",
       "1    0.00039  \n",
       "2    0.00650  \n",
       "3   49.00000  \n",
       "4  220.00000  "
      ]
     },
     "execution_count": 5,
     "metadata": {},
     "output_type": "execute_result"
    }
   ],
   "source": [
    "df.head()"
   ]
  },
  {
   "cell_type": "markdown",
   "id": "f017d0ce",
   "metadata": {
    "papermill": {
     "duration": 0.0135,
     "end_time": "2025-05-24T00:00:40.824100",
     "exception": false,
     "start_time": "2025-05-24T00:00:40.810600",
     "status": "completed"
    },
    "tags": []
   },
   "source": [
    "## Show data types and missing values"
   ]
  },
  {
   "cell_type": "code",
   "execution_count": 6,
   "id": "86e8488c",
   "metadata": {
    "execution": {
     "iopub.execute_input": "2025-05-24T00:00:40.855153Z",
     "iopub.status.busy": "2025-05-24T00:00:40.854781Z",
     "iopub.status.idle": "2025-05-24T00:00:40.893179Z",
     "shell.execute_reply": "2025-05-24T00:00:40.891336Z"
    },
    "papermill": {
     "duration": 0.056695,
     "end_time": "2025-05-24T00:00:40.894854",
     "exception": false,
     "start_time": "2025-05-24T00:00:40.838159",
     "status": "completed"
    },
    "tags": []
   },
   "outputs": [
    {
     "name": "stdout",
     "output_type": "stream",
     "text": [
      "<class 'pandas.core.frame.DataFrame'>\n",
      "RangeIndex: 3798 entries, 0 to 3797\n",
      "Data columns (total 8 columns):\n",
      " #   Column      Non-Null Count  Dtype  \n",
      "---  ------      --------------  -----  \n",
      " 0   region      3798 non-null   object \n",
      " 1   category    3798 non-null   object \n",
      " 2   parameter   3798 non-null   object \n",
      " 3   mode        3798 non-null   object \n",
      " 4   powertrain  3798 non-null   object \n",
      " 5   year        3798 non-null   int64  \n",
      " 6   unit        3798 non-null   object \n",
      " 7   value       3798 non-null   float64\n",
      "dtypes: float64(1), int64(1), object(6)\n",
      "memory usage: 237.5+ KB\n"
     ]
    }
   ],
   "source": [
    "df.info()"
   ]
  },
  {
   "cell_type": "markdown",
   "id": "f9c453ba",
   "metadata": {
    "papermill": {
     "duration": 0.013321,
     "end_time": "2025-05-24T00:00:40.921918",
     "exception": false,
     "start_time": "2025-05-24T00:00:40.908597",
     "status": "completed"
    },
    "tags": []
   },
   "source": [
    "## Summary statistics for numeric and categorical data"
   ]
  },
  {
   "cell_type": "code",
   "execution_count": 7,
   "id": "149c86a2",
   "metadata": {
    "execution": {
     "iopub.execute_input": "2025-05-24T00:00:40.953858Z",
     "iopub.status.busy": "2025-05-24T00:00:40.953471Z",
     "iopub.status.idle": "2025-05-24T00:00:40.977158Z",
     "shell.execute_reply": "2025-05-24T00:00:40.976168Z"
    },
    "papermill": {
     "duration": 0.042812,
     "end_time": "2025-05-24T00:00:40.979049",
     "exception": false,
     "start_time": "2025-05-24T00:00:40.936237",
     "status": "completed"
    },
    "tags": []
   },
   "outputs": [
    {
     "data": {
      "text/html": [
       "<div>\n",
       "<style scoped>\n",
       "    .dataframe tbody tr th:only-of-type {\n",
       "        vertical-align: middle;\n",
       "    }\n",
       "\n",
       "    .dataframe tbody tr th {\n",
       "        vertical-align: top;\n",
       "    }\n",
       "\n",
       "    .dataframe thead th {\n",
       "        text-align: right;\n",
       "    }\n",
       "</style>\n",
       "<table border=\"1\" class=\"dataframe\">\n",
       "  <thead>\n",
       "    <tr style=\"text-align: right;\">\n",
       "      <th></th>\n",
       "      <th>year</th>\n",
       "      <th>value</th>\n",
       "    </tr>\n",
       "  </thead>\n",
       "  <tbody>\n",
       "    <tr>\n",
       "      <th>count</th>\n",
       "      <td>3798.000000</td>\n",
       "      <td>3.798000e+03</td>\n",
       "    </tr>\n",
       "    <tr>\n",
       "      <th>mean</th>\n",
       "      <td>2017.369932</td>\n",
       "      <td>1.009542e+05</td>\n",
       "    </tr>\n",
       "    <tr>\n",
       "      <th>std</th>\n",
       "      <td>3.809226</td>\n",
       "      <td>8.184402e+05</td>\n",
       "    </tr>\n",
       "    <tr>\n",
       "      <th>min</th>\n",
       "      <td>2010.000000</td>\n",
       "      <td>1.500000e-05</td>\n",
       "    </tr>\n",
       "    <tr>\n",
       "      <th>25%</th>\n",
       "      <td>2014.000000</td>\n",
       "      <td>2.300000e+00</td>\n",
       "    </tr>\n",
       "    <tr>\n",
       "      <th>50%</th>\n",
       "      <td>2018.000000</td>\n",
       "      <td>1.900000e+02</td>\n",
       "    </tr>\n",
       "    <tr>\n",
       "      <th>75%</th>\n",
       "      <td>2021.000000</td>\n",
       "      <td>6.800000e+03</td>\n",
       "    </tr>\n",
       "    <tr>\n",
       "      <th>max</th>\n",
       "      <td>2023.000000</td>\n",
       "      <td>2.800000e+07</td>\n",
       "    </tr>\n",
       "  </tbody>\n",
       "</table>\n",
       "</div>"
      ],
      "text/plain": [
       "              year         value\n",
       "count  3798.000000  3.798000e+03\n",
       "mean   2017.369932  1.009542e+05\n",
       "std       3.809226  8.184402e+05\n",
       "min    2010.000000  1.500000e-05\n",
       "25%    2014.000000  2.300000e+00\n",
       "50%    2018.000000  1.900000e+02\n",
       "75%    2021.000000  6.800000e+03\n",
       "max    2023.000000  2.800000e+07"
      ]
     },
     "execution_count": 7,
     "metadata": {},
     "output_type": "execute_result"
    }
   ],
   "source": [
    "df.describe()"
   ]
  },
  {
   "cell_type": "markdown",
   "id": "843c35b4",
   "metadata": {
    "papermill": {
     "duration": 0.014176,
     "end_time": "2025-05-24T00:00:41.008458",
     "exception": false,
     "start_time": "2025-05-24T00:00:40.994282",
     "status": "completed"
    },
    "tags": []
   },
   "source": [
    "## Count missing values per column"
   ]
  },
  {
   "cell_type": "code",
   "execution_count": 8,
   "id": "db0749ce",
   "metadata": {
    "execution": {
     "iopub.execute_input": "2025-05-24T00:00:41.037115Z",
     "iopub.status.busy": "2025-05-24T00:00:41.036648Z",
     "iopub.status.idle": "2025-05-24T00:00:41.049698Z",
     "shell.execute_reply": "2025-05-24T00:00:41.048424Z"
    },
    "papermill": {
     "duration": 0.029884,
     "end_time": "2025-05-24T00:00:41.051904",
     "exception": false,
     "start_time": "2025-05-24T00:00:41.022020",
     "status": "completed"
    },
    "tags": []
   },
   "outputs": [
    {
     "data": {
      "text/plain": [
       "region        0\n",
       "category      0\n",
       "parameter     0\n",
       "mode          0\n",
       "powertrain    0\n",
       "year          0\n",
       "unit          0\n",
       "value         0\n",
       "dtype: int64"
      ]
     },
     "execution_count": 8,
     "metadata": {},
     "output_type": "execute_result"
    }
   ],
   "source": [
    "df.isnull().sum()"
   ]
  },
  {
   "cell_type": "markdown",
   "id": "7fb8ba9f",
   "metadata": {
    "papermill": {
     "duration": 0.017022,
     "end_time": "2025-05-24T00:00:41.089525",
     "exception": false,
     "start_time": "2025-05-24T00:00:41.072503",
     "status": "completed"
    },
    "tags": []
   },
   "source": [
    "# Step 2: Feature Engineering"
   ]
  },
  {
   "cell_type": "markdown",
   "id": "3e93542e",
   "metadata": {
    "papermill": {
     "duration": 0.019051,
     "end_time": "2025-05-24T00:00:41.123001",
     "exception": false,
     "start_time": "2025-05-24T00:00:41.103950",
     "status": "completed"
    },
    "tags": []
   },
   "source": [
    "## Filter only EV sales"
   ]
  },
  {
   "cell_type": "code",
   "execution_count": 9,
   "id": "d209c3b8",
   "metadata": {
    "execution": {
     "iopub.execute_input": "2025-05-24T00:00:41.157296Z",
     "iopub.status.busy": "2025-05-24T00:00:41.156945Z",
     "iopub.status.idle": "2025-05-24T00:00:41.167344Z",
     "shell.execute_reply": "2025-05-24T00:00:41.166384Z"
    },
    "papermill": {
     "duration": 0.030371,
     "end_time": "2025-05-24T00:00:41.169121",
     "exception": false,
     "start_time": "2025-05-24T00:00:41.138750",
     "status": "completed"
    },
    "tags": []
   },
   "outputs": [],
   "source": [
    "ev_sales_df = df[df['parameter'] == 'EV sales']"
   ]
  },
  {
   "cell_type": "markdown",
   "id": "31cf6835",
   "metadata": {
    "papermill": {
     "duration": 0.013929,
     "end_time": "2025-05-24T00:00:41.198429",
     "exception": false,
     "start_time": "2025-05-24T00:00:41.184500",
     "status": "completed"
    },
    "tags": []
   },
   "source": [
    "## Group total EV sales per region and year"
   ]
  },
  {
   "cell_type": "code",
   "execution_count": 10,
   "id": "313995ef",
   "metadata": {
    "execution": {
     "iopub.execute_input": "2025-05-24T00:00:41.227287Z",
     "iopub.status.busy": "2025-05-24T00:00:41.226960Z",
     "iopub.status.idle": "2025-05-24T00:00:41.239304Z",
     "shell.execute_reply": "2025-05-24T00:00:41.238301Z"
    },
    "papermill": {
     "duration": 0.02891,
     "end_time": "2025-05-24T00:00:41.241410",
     "exception": false,
     "start_time": "2025-05-24T00:00:41.212500",
     "status": "completed"
    },
    "tags": []
   },
   "outputs": [],
   "source": [
    "region_year_sales = ev_sales_df.groupby(['region', 'year'])['value'].sum().reset_index()\n",
    "region_year_sales.rename(columns={'value': 'total_sales'}, inplace=True)"
   ]
  },
  {
   "cell_type": "markdown",
   "id": "1007ac1e",
   "metadata": {
    "papermill": {
     "duration": 0.013244,
     "end_time": "2025-05-24T00:00:41.269718",
     "exception": false,
     "start_time": "2025-05-24T00:00:41.256474",
     "status": "completed"
    },
    "tags": []
   },
   "source": [
    "## Calculate cumulative EV sales for each region"
   ]
  },
  {
   "cell_type": "code",
   "execution_count": 11,
   "id": "aa4d6b84",
   "metadata": {
    "execution": {
     "iopub.execute_input": "2025-05-24T00:00:41.302490Z",
     "iopub.status.busy": "2025-05-24T00:00:41.302112Z",
     "iopub.status.idle": "2025-05-24T00:00:41.313518Z",
     "shell.execute_reply": "2025-05-24T00:00:41.312490Z"
    },
    "papermill": {
     "duration": 0.029639,
     "end_time": "2025-05-24T00:00:41.315368",
     "exception": false,
     "start_time": "2025-05-24T00:00:41.285729",
     "status": "completed"
    },
    "tags": []
   },
   "outputs": [],
   "source": [
    "region_year_sales['cumulative_sales'] = region_year_sales.groupby('region')['total_sales'].cumsum()"
   ]
  },
  {
   "cell_type": "markdown",
   "id": "a879cd5a",
   "metadata": {
    "papermill": {
     "duration": 0.0143,
     "end_time": "2025-05-24T00:00:41.345027",
     "exception": false,
     "start_time": "2025-05-24T00:00:41.330727",
     "status": "completed"
    },
    "tags": []
   },
   "source": [
    "##  Calculate Year-over-Year growth per region"
   ]
  },
  {
   "cell_type": "code",
   "execution_count": 12,
   "id": "acd49db6",
   "metadata": {
    "execution": {
     "iopub.execute_input": "2025-05-24T00:00:41.375090Z",
     "iopub.status.busy": "2025-05-24T00:00:41.374443Z",
     "iopub.status.idle": "2025-05-24T00:00:41.394591Z",
     "shell.execute_reply": "2025-05-24T00:00:41.393552Z"
    },
    "papermill": {
     "duration": 0.036811,
     "end_time": "2025-05-24T00:00:41.396336",
     "exception": false,
     "start_time": "2025-05-24T00:00:41.359525",
     "status": "completed"
    },
    "tags": []
   },
   "outputs": [],
   "source": [
    "region_year_sales['yoy_growth'] = region_year_sales.groupby('region')['total_sales'].pct_change() * 100"
   ]
  },
  {
   "cell_type": "markdown",
   "id": "da44cd18",
   "metadata": {
    "papermill": {
     "duration": 0.01462,
     "end_time": "2025-05-24T00:00:41.424647",
     "exception": false,
     "start_time": "2025-05-24T00:00:41.410027",
     "status": "completed"
    },
    "tags": []
   },
   "source": [
    "## Preview the result"
   ]
  },
  {
   "cell_type": "code",
   "execution_count": 13,
   "id": "64ae7e64",
   "metadata": {
    "execution": {
     "iopub.execute_input": "2025-05-24T00:00:41.454077Z",
     "iopub.status.busy": "2025-05-24T00:00:41.453574Z",
     "iopub.status.idle": "2025-05-24T00:00:41.466372Z",
     "shell.execute_reply": "2025-05-24T00:00:41.465203Z"
    },
    "papermill": {
     "duration": 0.030421,
     "end_time": "2025-05-24T00:00:41.468690",
     "exception": false,
     "start_time": "2025-05-24T00:00:41.438269",
     "status": "completed"
    },
    "tags": []
   },
   "outputs": [
    {
     "data": {
      "text/html": [
       "<div>\n",
       "<style scoped>\n",
       "    .dataframe tbody tr th:only-of-type {\n",
       "        vertical-align: middle;\n",
       "    }\n",
       "\n",
       "    .dataframe tbody tr th {\n",
       "        vertical-align: top;\n",
       "    }\n",
       "\n",
       "    .dataframe thead th {\n",
       "        text-align: right;\n",
       "    }\n",
       "</style>\n",
       "<table border=\"1\" class=\"dataframe\">\n",
       "  <thead>\n",
       "    <tr style=\"text-align: right;\">\n",
       "      <th></th>\n",
       "      <th>region</th>\n",
       "      <th>year</th>\n",
       "      <th>total_sales</th>\n",
       "      <th>cumulative_sales</th>\n",
       "      <th>yoy_growth</th>\n",
       "    </tr>\n",
       "  </thead>\n",
       "  <tbody>\n",
       "    <tr>\n",
       "      <th>0</th>\n",
       "      <td>Australia</td>\n",
       "      <td>2011</td>\n",
       "      <td>49.0</td>\n",
       "      <td>49.0</td>\n",
       "      <td>NaN</td>\n",
       "    </tr>\n",
       "    <tr>\n",
       "      <th>1</th>\n",
       "      <td>Australia</td>\n",
       "      <td>2012</td>\n",
       "      <td>250.0</td>\n",
       "      <td>299.0</td>\n",
       "      <td>410.204082</td>\n",
       "    </tr>\n",
       "    <tr>\n",
       "      <th>2</th>\n",
       "      <td>Australia</td>\n",
       "      <td>2013</td>\n",
       "      <td>290.0</td>\n",
       "      <td>589.0</td>\n",
       "      <td>16.000000</td>\n",
       "    </tr>\n",
       "    <tr>\n",
       "      <th>3</th>\n",
       "      <td>Australia</td>\n",
       "      <td>2014</td>\n",
       "      <td>1320.0</td>\n",
       "      <td>1909.0</td>\n",
       "      <td>355.172414</td>\n",
       "    </tr>\n",
       "    <tr>\n",
       "      <th>4</th>\n",
       "      <td>Australia</td>\n",
       "      <td>2015</td>\n",
       "      <td>1760.0</td>\n",
       "      <td>3669.0</td>\n",
       "      <td>33.333333</td>\n",
       "    </tr>\n",
       "    <tr>\n",
       "      <th>5</th>\n",
       "      <td>Australia</td>\n",
       "      <td>2016</td>\n",
       "      <td>1370.0</td>\n",
       "      <td>5039.0</td>\n",
       "      <td>-22.159091</td>\n",
       "    </tr>\n",
       "    <tr>\n",
       "      <th>6</th>\n",
       "      <td>Australia</td>\n",
       "      <td>2017</td>\n",
       "      <td>2300.0</td>\n",
       "      <td>7339.0</td>\n",
       "      <td>67.883212</td>\n",
       "    </tr>\n",
       "    <tr>\n",
       "      <th>7</th>\n",
       "      <td>Australia</td>\n",
       "      <td>2018</td>\n",
       "      <td>3600.0</td>\n",
       "      <td>10939.0</td>\n",
       "      <td>56.521739</td>\n",
       "    </tr>\n",
       "    <tr>\n",
       "      <th>8</th>\n",
       "      <td>Australia</td>\n",
       "      <td>2019</td>\n",
       "      <td>9200.0</td>\n",
       "      <td>20139.0</td>\n",
       "      <td>155.555556</td>\n",
       "    </tr>\n",
       "    <tr>\n",
       "      <th>9</th>\n",
       "      <td>Australia</td>\n",
       "      <td>2020</td>\n",
       "      <td>6900.0</td>\n",
       "      <td>27039.0</td>\n",
       "      <td>-25.000000</td>\n",
       "    </tr>\n",
       "  </tbody>\n",
       "</table>\n",
       "</div>"
      ],
      "text/plain": [
       "      region  year  total_sales  cumulative_sales  yoy_growth\n",
       "0  Australia  2011         49.0              49.0         NaN\n",
       "1  Australia  2012        250.0             299.0  410.204082\n",
       "2  Australia  2013        290.0             589.0   16.000000\n",
       "3  Australia  2014       1320.0            1909.0  355.172414\n",
       "4  Australia  2015       1760.0            3669.0   33.333333\n",
       "5  Australia  2016       1370.0            5039.0  -22.159091\n",
       "6  Australia  2017       2300.0            7339.0   67.883212\n",
       "7  Australia  2018       3600.0           10939.0   56.521739\n",
       "8  Australia  2019       9200.0           20139.0  155.555556\n",
       "9  Australia  2020       6900.0           27039.0  -25.000000"
      ]
     },
     "execution_count": 13,
     "metadata": {},
     "output_type": "execute_result"
    }
   ],
   "source": [
    "region_year_sales.head(10)"
   ]
  },
  {
   "cell_type": "markdown",
   "id": "4ee73253",
   "metadata": {
    "papermill": {
     "duration": 0.014793,
     "end_time": "2025-05-24T00:00:41.497723",
     "exception": false,
     "start_time": "2025-05-24T00:00:41.482930",
     "status": "completed"
    },
    "tags": []
   },
   "source": [
    "# Step 3: Visualizations"
   ]
  },
  {
   "cell_type": "markdown",
   "id": "217e053f",
   "metadata": {
    "papermill": {
     "duration": 0.014188,
     "end_time": "2025-05-24T00:00:41.526029",
     "exception": false,
     "start_time": "2025-05-24T00:00:41.511841",
     "status": "completed"
    },
    "tags": []
   },
   "source": [
    "## Line Plot: Global Sales Over Years"
   ]
  },
  {
   "cell_type": "code",
   "execution_count": 14,
   "id": "d46555a3",
   "metadata": {
    "execution": {
     "iopub.execute_input": "2025-05-24T00:00:41.556373Z",
     "iopub.status.busy": "2025-05-24T00:00:41.556021Z",
     "iopub.status.idle": "2025-05-24T00:00:41.945221Z",
     "shell.execute_reply": "2025-05-24T00:00:41.943937Z"
    },
    "papermill": {
     "duration": 0.407152,
     "end_time": "2025-05-24T00:00:41.947336",
     "exception": false,
     "start_time": "2025-05-24T00:00:41.540184",
     "status": "completed"
    },
    "tags": []
   },
   "outputs": [
    {
     "data": {
      "image/png": "[encoded data removed]",
      "text/plain": [
       "<Figure size 1200x600 with 1 Axes>"
      ]
     },
     "metadata": {},
     "output_type": "display_data"
    }
   ],
   "source": [
    "# Total global EV sales per year\n",
    "global_sales = ev_sales_df.groupby('year')['value'].sum().reset_index()\n",
    "\n",
    "plt.figure(figsize=(12, 6))\n",
    "sns.lineplot(data=global_sales, x='year', y='value', marker='o')\n",
    "plt.title('Total Global EV Sales per Year')\n",
    "plt.xlabel('Year')\n",
    "plt.ylabel('Total EV Sales (Vehicles)')\n",
    "plt.grid(True)\n",
    "plt.tight_layout()\n",
    "plt.show()"
   ]
  },
  {
   "cell_type": "markdown",
   "id": "010b367d",
   "metadata": {
    "papermill": {
     "duration": 0.01473,
     "end_time": "2025-05-24T00:00:41.978821",
     "exception": false,
     "start_time": "2025-05-24T00:00:41.964091",
     "status": "completed"
    },
    "tags": []
   },
   "source": [
    "## Bar Chart: Top Countries by Sales"
   ]
  },
  {
   "cell_type": "code",
   "execution_count": 15,
   "id": "782ad4f1",
   "metadata": {
    "execution": {
     "iopub.execute_input": "2025-05-24T00:00:42.012958Z",
     "iopub.status.busy": "2025-05-24T00:00:42.012547Z",
     "iopub.status.idle": "2025-05-24T00:00:42.367496Z",
     "shell.execute_reply": "2025-05-24T00:00:42.366319Z"
    },
    "papermill": {
     "duration": 0.374853,
     "end_time": "2025-05-24T00:00:42.369598",
     "exception": false,
     "start_time": "2025-05-24T00:00:41.994745",
     "status": "completed"
    },
    "tags": []
   },
   "outputs": [
    {
     "data": {
      "image/png": "[encoded data removed]",
      "text/plain": [
       "<Figure size 1400x600 with 1 Axes>"
      ]
     },
     "metadata": {},
     "output_type": "display_data"
    }
   ],
   "source": [
    "# Filter the most recent year\n",
    "latest_year = ev_sales_df['year'].max()\n",
    "top_countries = ev_sales_df[ev_sales_df['year'] == latest_year].groupby('region')['value'].sum().reset_index()\n",
    "top_countries = top_countries.sort_values(by='value', ascending=False).head(15)\n",
    "\n",
    "plt.figure(figsize=(14, 6))\n",
    "sns.barplot(data=top_countries, x='value', y='region', palette='magma')\n",
    "plt.title(f'Top 15 Countries by EV Sales in {latest_year}')\n",
    "plt.xlabel('EV Sales')\n",
    "plt.ylabel('Country')\n",
    "plt.tight_layout()\n",
    "plt.show()"
   ]
  },
  {
   "cell_type": "markdown",
   "id": "09e26036",
   "metadata": {
    "papermill": {
     "duration": 0.01565,
     "end_time": "2025-05-24T00:00:42.403589",
     "exception": false,
     "start_time": "2025-05-24T00:00:42.387939",
     "status": "completed"
    },
    "tags": []
   },
   "source": [
    "## Line Plot: Powertrain Sales Trend"
   ]
  },
  {
   "cell_type": "code",
   "execution_count": 16,
   "id": "1456ecbf",
   "metadata": {
    "execution": {
     "iopub.execute_input": "2025-05-24T00:00:42.437701Z",
     "iopub.status.busy": "2025-05-24T00:00:42.437349Z",
     "iopub.status.idle": "2025-05-24T00:00:42.819914Z",
     "shell.execute_reply": "2025-05-24T00:00:42.818732Z"
    },
    "papermill": {
     "duration": 0.403031,
     "end_time": "2025-05-24T00:00:42.822311",
     "exception": false,
     "start_time": "2025-05-24T00:00:42.419280",
     "status": "completed"
    },
    "tags": []
   },
   "outputs": [
    {
     "data": {
      "image/png": "[encoded data removed]",
      "text/plain": [
       "<Figure size 1200x600 with 1 Axes>"
      ]
     },
     "metadata": {},
     "output_type": "display_data"
    }
   ],
   "source": [
    "# Total sales by year and powertrain\n",
    "powertrain_trend = ev_sales_df.groupby(['year', 'powertrain'])['value'].sum().reset_index()\n",
    "\n",
    "plt.figure(figsize=(12, 6))\n",
    "sns.lineplot(data=powertrain_trend, x='year', y='value', hue='powertrain', marker='o')\n",
    "plt.title('EV Sales by Powertrain Type Over Time')\n",
    "plt.xlabel('Year')\n",
    "plt.ylabel('Sales')\n",
    "plt.legend(title='Powertrain')\n",
    "plt.grid(True)\n",
    "plt.tight_layout()\n",
    "plt.show()"
   ]
  },
  {
   "cell_type": "markdown",
   "id": "3db62ad4",
   "metadata": {
    "papermill": {
     "duration": 0.023652,
     "end_time": "2025-05-24T00:00:42.867635",
     "exception": false,
     "start_time": "2025-05-24T00:00:42.843983",
     "status": "completed"
    },
    "tags": []
   },
   "source": [
    "## Bar Chart: Total Sales by Powertrain"
   ]
  },
  {
   "cell_type": "code",
   "execution_count": 17,
   "id": "fb516100",
   "metadata": {
    "execution": {
     "iopub.execute_input": "2025-05-24T00:00:42.910672Z",
     "iopub.status.busy": "2025-05-24T00:00:42.910273Z",
     "iopub.status.idle": "2025-05-24T00:00:43.125811Z",
     "shell.execute_reply": "2025-05-24T00:00:43.124526Z"
    },
    "papermill": {
     "duration": 0.238708,
     "end_time": "2025-05-24T00:00:43.127712",
     "exception": false,
     "start_time": "2025-05-24T00:00:42.889004",
     "status": "completed"
    },
    "tags": []
   },
   "outputs": [
    {
     "data": {
      "image/png": "[encoded data removed]",
      "text/plain": [
       "<Figure size 800x500 with 1 Axes>"
      ]
     },
     "metadata": {},
     "output_type": "display_data"
    }
   ],
   "source": [
    "# Total sales by powertrain\n",
    "total_powertrain = ev_sales_df.groupby('powertrain')['value'].sum().reset_index()\n",
    "total_powertrain = total_powertrain.sort_values(by='value', ascending=False)\n",
    "\n",
    "plt.figure(figsize=(8, 5))\n",
    "sns.barplot(data=total_powertrain, x='powertrain', y='value', palette='coolwarm')\n",
    "plt.title('Total EV Sales by Powertrain Type')\n",
    "plt.xlabel('Powertrain')\n",
    "plt.ylabel('Total Sales')\n",
    "plt.tight_layout()\n",
    "plt.show()"
   ]
  },
  {
   "cell_type": "markdown",
   "id": "b6d48719",
   "metadata": {
    "papermill": {
     "duration": 0.022118,
     "end_time": "2025-05-24T00:00:43.171000",
     "exception": false,
     "start_time": "2025-05-24T00:00:43.148882",
     "status": "completed"
    },
    "tags": []
   },
   "source": [
    "## Heatmap: Sales by Region and Year"
   ]
  },
  {
   "cell_type": "code",
   "execution_count": 18,
   "id": "09394b49",
   "metadata": {
    "execution": {
     "iopub.execute_input": "2025-05-24T00:00:43.215388Z",
     "iopub.status.busy": "2025-05-24T00:00:43.215070Z",
     "iopub.status.idle": "2025-05-24T00:00:44.077758Z",
     "shell.execute_reply": "2025-05-24T00:00:44.074683Z"
    },
    "papermill": {
     "duration": 0.887592,
     "end_time": "2025-05-24T00:00:44.081984",
     "exception": false,
     "start_time": "2025-05-24T00:00:43.194392",
     "status": "completed"
    },
    "tags": []
   },
   "outputs": [
    {
     "data": {
      "image/png": "[encoded data removed]",
      "text/plain": [
       "<Figure size 1600x1000 with 2 Axes>"
      ]
     },
     "metadata": {},
     "output_type": "display_data"
    }
   ],
   "source": [
    "# Pivot table for heatmap\n",
    "heatmap_data = region_year_sales.pivot(index='region', columns='year', values='total_sales')\n",
    "\n",
    "plt.figure(figsize=(16, 10))\n",
    "sns.heatmap(heatmap_data, cmap='YlGnBu', linewidths=0.5, linecolor='gray')\n",
    "plt.title('Yearly EV Sales per Region (Heatmap)')\n",
    "plt.xlabel('Year')\n",
    "plt.ylabel('Region')\n",
    "plt.tight_layout()\n",
    "plt.show()"
   ]
  },
  {
   "cell_type": "markdown",
   "id": "d4e8e2b7",
   "metadata": {
    "papermill": {
     "duration": 0.022518,
     "end_time": "2025-05-24T00:00:44.126526",
     "exception": false,
     "start_time": "2025-05-24T00:00:44.104008",
     "status": "completed"
    },
    "tags": []
   },
   "source": [
    "# Step 4: Machine Learning Modeling"
   ]
  },
  {
   "cell_type": "markdown",
   "id": "512217a3",
   "metadata": {
    "papermill": {
     "duration": 0.023451,
     "end_time": "2025-05-24T00:00:44.171441",
     "exception": false,
     "start_time": "2025-05-24T00:00:44.147990",
     "status": "completed"
    },
    "tags": []
   },
   "source": [
    "## Prepare the dataset"
   ]
  },
  {
   "cell_type": "code",
   "execution_count": 55,
   "id": "56a517b9",
   "metadata": {
    "execution": {
     "iopub.execute_input": "2025-05-24T00:00:44.220378Z",
     "iopub.status.busy": "2025-05-24T00:00:44.220019Z",
     "iopub.status.idle": "2025-05-24T00:00:44.233375Z",
     "shell.execute_reply": "2025-05-24T00:00:44.232056Z"
    },
    "papermill": {
     "duration": 0.040002,
     "end_time": "2025-05-24T00:00:44.236022",
     "exception": false,
     "start_time": "2025-05-24T00:00:44.196020",
     "status": "completed"
    },
    "tags": []
   },
   "outputs": [],
   "source": [
    "ml_df = df[df['parameter'] == 'EV sales'].groupby('year')['value'].sum().reset_index()\n",
    "ml_df.rename(columns={'value': 'total_sales'}, inplace=True)\n",
    "\n",
    "X = ml_df[['year']]\n",
    "y = ml_df['total_sales']\n",
    "X_train, X_test, y_train, y_test = train_test_split(X, y, test_size=0.2)\n"
   ]
  },
  {
   "cell_type": "markdown",
   "id": "b430c962",
   "metadata": {
    "papermill": {
     "duration": 0.024599,
     "end_time": "2025-05-24T00:00:44.286796",
     "exception": false,
     "start_time": "2025-05-24T00:00:44.262197",
     "status": "completed"
    },
    "tags": []
   },
   "source": [
    "## Define models"
   ]
  },
  {
   "cell_type": "code",
   "execution_count": 56,
   "id": "6973ac24",
   "metadata": {
    "execution": {
     "iopub.execute_input": "2025-05-24T00:00:44.335078Z",
     "iopub.status.busy": "2025-05-24T00:00:44.334753Z",
     "iopub.status.idle": "2025-05-24T00:00:44.343076Z",
     "shell.execute_reply": "2025-05-24T00:00:44.341663Z"
    },
    "papermill": {
     "duration": 0.035787,
     "end_time": "2025-05-24T00:00:44.345018",
     "exception": false,
     "start_time": "2025-05-24T00:00:44.309231",
     "status": "completed"
    },
    "tags": []
   },
   "outputs": [],
   "source": [
    "models = {\n",
    "    \"Linear Regression\": LinearRegression(),\n",
    "    \"Ridge Regression\": Ridge(),\n",
    "    \"Lasso Regression\": Lasso(),\n",
    "    \"ElasticNet\": ElasticNet(),\n",
    "    \"Decision Tree\": DecisionTreeRegressor(),\n",
    "    \"Random Forest\": RandomForestRegressor(),\n",
    "    \"Gradient Boosting\": GradientBoostingRegressor(),\n",
    "    \"AdaBoost\": AdaBoostRegressor(),\n",
    "}"
   ]
  },
  {
   "cell_type": "markdown",
   "id": "16a89ebe",
   "metadata": {
    "papermill": {
     "duration": 0.02227,
     "end_time": "2025-05-24T00:00:44.389821",
     "exception": false,
     "start_time": "2025-05-24T00:00:44.367551",
     "status": "completed"
    },
    "tags": []
   },
   "source": [
    "## Train and evaluate"
   ]
  },
  {
   "cell_type": "code",
   "execution_count": 57,
   "id": "5756e8aa",
   "metadata": {
    "execution": {
     "iopub.execute_input": "2025-05-24T00:00:44.435291Z",
     "iopub.status.busy": "2025-05-24T00:00:44.434898Z",
     "iopub.status.idle": "2025-05-24T00:00:45.199260Z",
     "shell.execute_reply": "2025-05-24T00:00:45.197429Z"
    },
    "papermill": {
     "duration": 0.789649,
     "end_time": "2025-05-24T00:00:45.201317",
     "exception": false,
     "start_time": "2025-05-24T00:00:44.411668",
     "status": "completed"
    },
    "tags": []
   },
   "outputs": [],
   "source": [
    "results = []\n",
    "\n",
    "for name, model in models.items():\n",
    "    start = time.time()\n",
    "    model.fit(X_train, y_train)\n",
    "    y_pred = model.predict(X_test)\n",
    "    end = time.time()\n",
    "    \n",
    "    mse = mean_squared_error(y_test, y_pred)\n",
    "    rmse = np.sqrt(mse)\n",
    "    r2 = r2_score(y_test, y_pred)\n",
    "    duration = end - start\n",
    "\n",
    "    results.append({\n",
    "        'Model': name,\n",
    "        'MSE': mse,\n",
    "        'RMSE': rmse,\n",
    "        'R²': r2,\n",
    "        'Time (s)': duration\n",
    "    })"
   ]
  },
  {
   "cell_type": "markdown",
   "id": "8c7706f1",
   "metadata": {
    "papermill": {
     "duration": 0.03417,
     "end_time": "2025-05-24T00:00:45.265968",
     "exception": false,
     "start_time": "2025-05-24T00:00:45.231798",
     "status": "completed"
    },
    "tags": []
   },
   "source": [
    "## Show results"
   ]
  },
  {
   "cell_type": "code",
   "execution_count": 59,
   "id": "c423d0ba",
   "metadata": {
    "execution": {
     "iopub.execute_input": "2025-05-24T00:00:45.316749Z",
     "iopub.status.busy": "2025-05-24T00:00:45.316330Z",
     "iopub.status.idle": "2025-05-24T00:00:45.336417Z",
     "shell.execute_reply": "2025-05-24T00:00:45.335176Z"
    },
    "papermill": {
     "duration": 0.048925,
     "end_time": "2025-05-24T00:00:45.338718",
     "exception": false,
     "start_time": "2025-05-24T00:00:45.289793",
     "status": "completed"
    },
    "tags": []
   },
   "outputs": [
    {
     "data": {
      "text/html": [
       "<div>\n",
       "<style scoped>\n",
       "    .dataframe tbody tr th:only-of-type {\n",
       "        vertical-align: middle;\n",
       "    }\n",
       "\n",
       "    .dataframe tbody tr th {\n",
       "        vertical-align: top;\n",
       "    }\n",
       "\n",
       "    .dataframe thead th {\n",
       "        text-align: right;\n",
       "    }\n",
       "</style>\n",
       "<table border=\"1\" class=\"dataframe\">\n",
       "  <thead>\n",
       "    <tr style=\"text-align: right;\">\n",
       "      <th></th>\n",
       "      <th>Model</th>\n",
       "      <th>MSE</th>\n",
       "      <th>RMSE</th>\n",
       "      <th>R²</th>\n",
       "      <th>Time (s)</th>\n",
       "    </tr>\n",
       "  </thead>\n",
       "  <tbody>\n",
       "    <tr>\n",
       "      <th>0</th>\n",
       "      <td>Random Forest</td>\n",
       "      <td>8.538170e+10</td>\n",
       "      <td>2.922015e+05</td>\n",
       "      <td>0.982983</td>\n",
       "      <td>0.154616</td>\n",
       "    </tr>\n",
       "    <tr>\n",
       "      <th>1</th>\n",
       "      <td>Gradient Boosting</td>\n",
       "      <td>9.843297e+10</td>\n",
       "      <td>3.137403e+05</td>\n",
       "      <td>0.980382</td>\n",
       "      <td>0.090436</td>\n",
       "    </tr>\n",
       "    <tr>\n",
       "      <th>2</th>\n",
       "      <td>Decision Tree</td>\n",
       "      <td>9.851624e+10</td>\n",
       "      <td>3.138730e+05</td>\n",
       "      <td>0.980365</td>\n",
       "      <td>0.007364</td>\n",
       "    </tr>\n",
       "    <tr>\n",
       "      <th>3</th>\n",
       "      <td>AdaBoost</td>\n",
       "      <td>2.998873e+11</td>\n",
       "      <td>5.476197e+05</td>\n",
       "      <td>0.940231</td>\n",
       "      <td>0.129393</td>\n",
       "    </tr>\n",
       "    <tr>\n",
       "      <th>4</th>\n",
       "      <td>ElasticNet</td>\n",
       "      <td>2.886913e+13</td>\n",
       "      <td>5.373000e+06</td>\n",
       "      <td>-4.753800</td>\n",
       "      <td>0.010014</td>\n",
       "    </tr>\n",
       "    <tr>\n",
       "      <th>5</th>\n",
       "      <td>Ridge Regression</td>\n",
       "      <td>3.038370e+13</td>\n",
       "      <td>5.512141e+06</td>\n",
       "      <td>-5.055664</td>\n",
       "      <td>0.026628</td>\n",
       "    </tr>\n",
       "    <tr>\n",
       "      <th>6</th>\n",
       "      <td>Lasso Regression</td>\n",
       "      <td>3.074405e+13</td>\n",
       "      <td>5.544731e+06</td>\n",
       "      <td>-5.127483</td>\n",
       "      <td>0.015976</td>\n",
       "    </tr>\n",
       "    <tr>\n",
       "      <th>7</th>\n",
       "      <td>Linear Regression</td>\n",
       "      <td>3.074405e+13</td>\n",
       "      <td>5.544731e+06</td>\n",
       "      <td>-5.127484</td>\n",
       "      <td>0.041780</td>\n",
       "    </tr>\n",
       "  </tbody>\n",
       "</table>\n",
       "</div>"
      ],
      "text/plain": [
       "               Model           MSE          RMSE        R²  Time (s)\n",
       "0      Random Forest  8.538170e+10  2.922015e+05  0.982983  0.154616\n",
       "1  Gradient Boosting  9.843297e+10  3.137403e+05  0.980382  0.090436\n",
       "2      Decision Tree  9.851624e+10  3.138730e+05  0.980365  0.007364\n",
       "3           AdaBoost  2.998873e+11  5.476197e+05  0.940231  0.129393\n",
       "4         ElasticNet  2.886913e+13  5.373000e+06 -4.753800  0.010014\n",
       "5   Ridge Regression  3.038370e+13  5.512141e+06 -5.055664  0.026628\n",
       "6   Lasso Regression  3.074405e+13  5.544731e+06 -5.127483  0.015976\n",
       "7  Linear Regression  3.074405e+13  5.544731e+06 -5.127484  0.041780"
      ]
     },
     "execution_count": 59,
     "metadata": {},
     "output_type": "execute_result"
    }
   ],
   "source": [
    "results_df = pd.DataFrame(results).sort_values(by='R²', ascending=False).reset_index(drop=True)\n",
    "results_df"
   ]
  },
  {
   "cell_type": "markdown",
   "id": "a075e30d",
   "metadata": {
    "papermill": {
     "duration": 0.023219,
     "end_time": "2025-05-24T00:00:45.384917",
     "exception": false,
     "start_time": "2025-05-24T00:00:45.361698",
     "status": "completed"
    },
    "tags": []
   },
   "source": [
    "# Step 5 – Forecast Future Sales (2024–2030)"
   ]
  },
  {
   "cell_type": "markdown",
   "id": "009a247e",
   "metadata": {
    "papermill": {
     "duration": 0.026412,
     "end_time": "2025-05-24T00:00:45.444091",
     "exception": false,
     "start_time": "2025-05-24T00:00:45.417679",
     "status": "completed"
    },
    "tags": []
   },
   "source": [
    "## Train the best model (Random Forest) on all data"
   ]
  },
  {
   "cell_type": "code",
   "execution_count": 60,
   "id": "8cef606e",
   "metadata": {},
   "outputs": [
    {
     "name": "stdout",
     "output_type": "stream",
     "text": [
      "Fitting 3 folds for each of 100 candidates, totalling 300 fits\n",
      "Best parameters found: {'n_estimators': 1000, 'min_samples_split': 2, 'min_samples_leaf': 1, 'max_features': 'sqrt', 'max_depth': 110, 'bootstrap': True}\n",
      "MSE: 101335178273.40813\n",
      "RMSE: 318331.868139852\n",
      "R²: 0.9798032554414766\n"
     ]
    }
   ],
   "source": [
    "from sklearn.model_selection import RandomizedSearchCV\n",
    "\n",
    "# Define the parameter grid\n",
    "param_grid = {\n",
    "    'n_estimators': [int(x) for x in np.linspace(start = 200, stop = 2000, num = 10)],\n",
    "    'max_features': ['auto', 'sqrt'],\n",
    "    'max_depth': [int(x) for x in np.linspace(10, 110, num = 11)] + [None],\n",
    "    'min_samples_split': [2, 5, 10],\n",
    "    'min_samples_leaf': [1, 2, 4],\n",
    "    'bootstrap': [True, False]\n",
    "}\n",
    "\n",
    "# Create the Random Forest Regressor\n",
    "rf = RandomForestRegressor()\n",
    "\n",
    "# Create the RandomizedSearchCV object\n",
    "rf_random = RandomizedSearchCV(estimator = rf, param_distributions = param_grid, \n",
    "                              n_iter = 100, cv = 3, verbose=2, random_state=42, n_jobs = -1)\n",
    "\n",
    "# Fit the random search model\n",
    "rf_random.fit(X_train, y_train)\n",
    "\n",
    "# Print the best parameters\n",
    "print(\"Best parameters found:\", rf_random.best_params_)\n",
    "\n",
    "# Evaluate the best model\n",
    "best_model = rf_random.best_estimator_\n",
    "y_pred = best_model.predict(X_test)\n",
    "mse = mean_squared_error(y_test, y_pred)\n",
    "rmse = np.sqrt(mse)\n",
    "r2 = r2_score(y_test, y_pred)\n",
    "\n",
    "print(f'MSE: {mse}')\n",
    "print(f'RMSE: {rmse}')\n",
    "print(f'R²: {r2}')"
   ]
  },
  {
   "cell_type": "code",
   "execution_count": 61,
   "id": "25944c02",
   "metadata": {},
   "outputs": [
    {
     "data": {
      "text/html": [
       "<style>#sk-container-id-4 {\n",
       "  /* Definition of color scheme common for light and dark mode */\n",
       "  --sklearn-color-text: black;\n",
       "  --sklearn-color-line: gray;\n",
       "  /* Definition of color scheme for unfitted estimators */\n",
       "  --sklearn-color-unfitted-level-0: #fff5e6;\n",
       "  --sklearn-color-unfitted-level-1: #f6e4d2;\n",
       "  --sklearn-color-unfitted-level-2: #ffe0b3;\n",
       "  --sklearn-color-unfitted-level-3: chocolate;\n",
       "  /* Definition of color scheme for fitted estimators */\n",
       "  --sklearn-color-fitted-level-0: #f0f8ff;\n",
       "  --sklearn-color-fitted-level-1: #d4ebff;\n",
       "  --sklearn-color-fitted-level-2: #b3dbfd;\n",
       "  --sklearn-color-fitted-level-3: cornflowerblue;\n",
       "\n",
       "  /* Specific color for light theme */\n",
       "  --sklearn-color-text-on-default-background: var(--sg-text-color, var(--theme-code-foreground, var(--jp-content-font-color1, black)));\n",
       "  --sklearn-color-background: var(--sg-background-color, var(--theme-background, var(--jp-layout-color0, white)));\n",
       "  --sklearn-color-border-box: var(--sg-text-color, var(--theme-code-foreground, var(--jp-content-font-color1, black)));\n",
       "  --sklearn-color-icon: #696969;\n",
       "\n",
       "  @media (prefers-color-scheme: dark) {\n",
       "    /* Redefinition of color scheme for dark theme */\n",
       "    --sklearn-color-text-on-default-background: var(--sg-text-color, var(--theme-code-foreground, var(--jp-content-font-color1, white)));\n",
       "    --sklearn-color-background: var(--sg-background-color, var(--theme-background, var(--jp-layout-color0, #111)));\n",
       "    --sklearn-color-border-box: var(--sg-text-color, var(--theme-code-foreground, var(--jp-content-font-color1, white)));\n",
       "    --sklearn-color-icon: #878787;\n",
       "  }\n",
       "}\n",
       "\n",
       "#sk-container-id-4 {\n",
       "  color: var(--sklearn-color-text);\n",
       "}\n",
       "\n",
       "#sk-container-id-4 pre {\n",
       "  padding: 0;\n",
       "}\n",
       "\n",
       "#sk-container-id-4 input.sk-hidden--visually {\n",
       "  border: 0;\n",
       "  clip: rect(1px 1px 1px 1px);\n",
       "  clip: rect(1px, 1px, 1px, 1px);\n",
       "  height: 1px;\n",
       "  margin: -1px;\n",
       "  overflow: hidden;\n",
       "  padding: 0;\n",
       "  position: absolute;\n",
       "  width: 1px;\n",
       "}\n",
       "\n",
       "#sk-container-id-4 div.sk-dashed-wrapped {\n",
       "  border: 1px dashed var(--sklearn-color-line);\n",
       "  margin: 0 0.4em 0.5em 0.4em;\n",
       "  box-sizing: border-box;\n",
       "  padding-bottom: 0.4em;\n",
       "  background-color: var(--sklearn-color-background);\n",
       "}\n",
       "\n",
       "#sk-container-id-4 div.sk-container {\n",
       "  /* jupyter's `normalize.less` sets `[hidden] { display: none; }`\n",
       "     but bootstrap.min.css set `[hidden] { display: none !important; }`\n",
       "     so we also need the `!important` here to be able to override the\n",
       "     default hidden behavior on the sphinx rendered scikit-learn.org.\n",
       "     See: https://github.com/scikit-learn/scikit-learn/issues/21755 */\n",
       "  display: inline-block !important;\n",
       "  position: relative;\n",
       "}\n",
       "\n",
       "#sk-container-id-4 div.sk-text-repr-fallback {\n",
       "  display: none;\n",
       "}\n",
       "\n",
       "div.sk-parallel-item,\n",
       "div.sk-serial,\n",
       "div.sk-item {\n",
       "  /* draw centered vertical line to link estimators */\n",
       "  background-image: linear-gradient(var(--sklearn-color-text-on-default-background), var(--sklearn-color-text-on-default-background));\n",
       "  background-size: 2px 100%;\n",
       "  background-repeat: no-repeat;\n",
       "  background-position: center center;\n",
       "}\n",
       "\n",
       "/* Parallel-specific style estimator block */\n",
       "\n",
       "#sk-container-id-4 div.sk-parallel-item::after {\n",
       "  content: \"\";\n",
       "  width: 100%;\n",
       "  border-bottom: 2px solid var(--sklearn-color-text-on-default-background);\n",
       "  flex-grow: 1;\n",
       "}\n",
       "\n",
       "#sk-container-id-4 div.sk-parallel {\n",
       "  display: flex;\n",
       "  align-items: stretch;\n",
       "  justify-content: center;\n",
       "  background-color: var(--sklearn-color-background);\n",
       "  position: relative;\n",
       "}\n",
       "\n",
       "#sk-container-id-4 div.sk-parallel-item {\n",
       "  display: flex;\n",
       "  flex-direction: column;\n",
       "}\n",
       "\n",
       "#sk-container-id-4 div.sk-parallel-item:first-child::after {\n",
       "  align-self: flex-end;\n",
       "  width: 50%;\n",
       "}\n",
       "\n",
       "#sk-container-id-4 div.sk-parallel-item:last-child::after {\n",
       "  align-self: flex-start;\n",
       "  width: 50%;\n",
       "}\n",
       "\n",
       "#sk-container-id-4 div.sk-parallel-item:only-child::after {\n",
       "  width: 0;\n",
       "}\n",
       "\n",
       "/* Serial-specific style estimator block */\n",
       "\n",
       "#sk-container-id-4 div.sk-serial {\n",
       "  display: flex;\n",
       "  flex-direction: column;\n",
       "  align-items: center;\n",
       "  background-color: var(--sklearn-color-background);\n",
       "  padding-right: 1em;\n",
       "  padding-left: 1em;\n",
       "}\n",
       "\n",
       "\n",
       "/* Toggleable style: style used for estimator/Pipeline/ColumnTransformer box that is\n",
       "clickable and can be expanded/collapsed.\n",
       "- Pipeline and ColumnTransformer use this feature and define the default style\n",
       "- Estimators will overwrite some part of the style using the `sk-estimator` class\n",
       "*/\n",
       "\n",
       "/* Pipeline and ColumnTransformer style (default) */\n",
       "\n",
       "#sk-container-id-4 div.sk-toggleable {\n",
       "  /* Default theme specific background. It is overwritten whether we have a\n",
       "  specific estimator or a Pipeline/ColumnTransformer */\n",
       "  background-color: var(--sklearn-color-background);\n",
       "}\n",
       "\n",
       "/* Toggleable label */\n",
       "#sk-container-id-4 label.sk-toggleable__label {\n",
       "  cursor: pointer;\n",
       "  display: block;\n",
       "  width: 100%;\n",
       "  margin-bottom: 0;\n",
       "  padding: 0.5em;\n",
       "  box-sizing: border-box;\n",
       "  text-align: center;\n",
       "}\n",
       "\n",
       "#sk-container-id-4 label.sk-toggleable__label-arrow:before {\n",
       "  /* Arrow on the left of the label */\n",
       "  content: \"▸\";\n",
       "  float: left;\n",
       "  margin-right: 0.25em;\n",
       "  color: var(--sklearn-color-icon);\n",
       "}\n",
       "\n",
       "#sk-container-id-4 label.sk-toggleable__label-arrow:hover:before {\n",
       "  color: var(--sklearn-color-text);\n",
       "}\n",
       "\n",
       "/* Toggleable content - dropdown */\n",
       "\n",
       "#sk-container-id-4 div.sk-toggleable__content {\n",
       "  max-height: 0;\n",
       "  max-width: 0;\n",
       "  overflow: hidden;\n",
       "  text-align: left;\n",
       "  /* unfitted */\n",
       "  background-color: var(--sklearn-color-unfitted-level-0);\n",
       "}\n",
       "\n",
       "#sk-container-id-4 div.sk-toggleable__content.fitted {\n",
       "  /* fitted */\n",
       "  background-color: var(--sklearn-color-fitted-level-0);\n",
       "}\n",
       "\n",
       "#sk-container-id-4 div.sk-toggleable__content pre {\n",
       "  margin: 0.2em;\n",
       "  border-radius: 0.25em;\n",
       "  color: var(--sklearn-color-text);\n",
       "  /* unfitted */\n",
       "  background-color: var(--sklearn-color-unfitted-level-0);\n",
       "}\n",
       "\n",
       "#sk-container-id-4 div.sk-toggleable__content.fitted pre {\n",
       "  /* unfitted */\n",
       "  background-color: var(--sklearn-color-fitted-level-0);\n",
       "}\n",
       "\n",
       "#sk-container-id-4 input.sk-toggleable__control:checked~div.sk-toggleable__content {\n",
       "  /* Expand drop-down */\n",
       "  max-height: 200px;\n",
       "  max-width: 100%;\n",
       "  overflow: auto;\n",
       "}\n",
       "\n",
       "#sk-container-id-4 input.sk-toggleable__control:checked~label.sk-toggleable__label-arrow:before {\n",
       "  content: \"▾\";\n",
       "}\n",
       "\n",
       "/* Pipeline/ColumnTransformer-specific style */\n",
       "\n",
       "#sk-container-id-4 div.sk-label input.sk-toggleable__control:checked~label.sk-toggleable__label {\n",
       "  color: var(--sklearn-color-text);\n",
       "  background-color: var(--sklearn-color-unfitted-level-2);\n",
       "}\n",
       "\n",
       "#sk-container-id-4 div.sk-label.fitted input.sk-toggleable__control:checked~label.sk-toggleable__label {\n",
       "  background-color: var(--sklearn-color-fitted-level-2);\n",
       "}\n",
       "\n",
       "/* Estimator-specific style */\n",
       "\n",
       "/* Colorize estimator box */\n",
       "#sk-container-id-4 div.sk-estimator input.sk-toggleable__control:checked~label.sk-toggleable__label {\n",
       "  /* unfitted */\n",
       "  background-color: var(--sklearn-color-unfitted-level-2);\n",
       "}\n",
       "\n",
       "#sk-container-id-4 div.sk-estimator.fitted input.sk-toggleable__control:checked~label.sk-toggleable__label {\n",
       "  /* fitted */\n",
       "  background-color: var(--sklearn-color-fitted-level-2);\n",
       "}\n",
       "\n",
       "#sk-container-id-4 div.sk-label label.sk-toggleable__label,\n",
       "#sk-container-id-4 div.sk-label label {\n",
       "  /* The background is the default theme color */\n",
       "  color: var(--sklearn-color-text-on-default-background);\n",
       "}\n",
       "\n",
       "/* On hover, darken the color of the background */\n",
       "#sk-container-id-4 div.sk-label:hover label.sk-toggleable__label {\n",
       "  color: var(--sklearn-color-text);\n",
       "  background-color: var(--sklearn-color-unfitted-level-2);\n",
       "}\n",
       "\n",
       "/* Label box, darken color on hover, fitted */\n",
       "#sk-container-id-4 div.sk-label.fitted:hover label.sk-toggleable__label.fitted {\n",
       "  color: var(--sklearn-color-text);\n",
       "  background-color: var(--sklearn-color-fitted-level-2);\n",
       "}\n",
       "\n",
       "/* Estimator label */\n",
       "\n",
       "#sk-container-id-4 div.sk-label label {\n",
       "  font-family: monospace;\n",
       "  font-weight: bold;\n",
       "  display: inline-block;\n",
       "  line-height: 1.2em;\n",
       "}\n",
       "\n",
       "#sk-container-id-4 div.sk-label-container {\n",
       "  text-align: center;\n",
       "}\n",
       "\n",
       "/* Estimator-specific */\n",
       "#sk-container-id-4 div.sk-estimator {\n",
       "  font-family: monospace;\n",
       "  border: 1px dotted var(--sklearn-color-border-box);\n",
       "  border-radius: 0.25em;\n",
       "  box-sizing: border-box;\n",
       "  margin-bottom: 0.5em;\n",
       "  /* unfitted */\n",
       "  background-color: var(--sklearn-color-unfitted-level-0);\n",
       "}\n",
       "\n",
       "#sk-container-id-4 div.sk-estimator.fitted {\n",
       "  /* fitted */\n",
       "  background-color: var(--sklearn-color-fitted-level-0);\n",
       "}\n",
       "\n",
       "/* on hover */\n",
       "#sk-container-id-4 div.sk-estimator:hover {\n",
       "  /* unfitted */\n",
       "  background-color: var(--sklearn-color-unfitted-level-2);\n",
       "}\n",
       "\n",
       "#sk-container-id-4 div.sk-estimator.fitted:hover {\n",
       "  /* fitted */\n",
       "  background-color: var(--sklearn-color-fitted-level-2);\n",
       "}\n",
       "\n",
       "/* Specification for estimator info (e.g. \"i\" and \"?\") */\n",
       "\n",
       "/* Common style for \"i\" and \"?\" */\n",
       "\n",
       ".sk-estimator-doc-link,\n",
       "a:link.sk-estimator-doc-link,\n",
       "a:visited.sk-estimator-doc-link {\n",
       "  float: right;\n",
       "  font-size: smaller;\n",
       "  line-height: 1em;\n",
       "  font-family: monospace;\n",
       "  background-color: var(--sklearn-color-background);\n",
       "  border-radius: 1em;\n",
       "  height: 1em;\n",
       "  width: 1em;\n",
       "  text-decoration: none !important;\n",
       "  margin-left: 1ex;\n",
       "  /* unfitted */\n",
       "  border: var(--sklearn-color-unfitted-level-1) 1pt solid;\n",
       "  color: var(--sklearn-color-unfitted-level-1);\n",
       "}\n",
       "\n",
       ".sk-estimator-doc-link.fitted,\n",
       "a:link.sk-estimator-doc-link.fitted,\n",
       "a:visited.sk-estimator-doc-link.fitted {\n",
       "  /* fitted */\n",
       "  border: var(--sklearn-color-fitted-level-1) 1pt solid;\n",
       "  color: var(--sklearn-color-fitted-level-1);\n",
       "}\n",
       "\n",
       "/* On hover */\n",
       "div.sk-estimator:hover .sk-estimator-doc-link:hover,\n",
       ".sk-estimator-doc-link:hover,\n",
       "div.sk-label-container:hover .sk-estimator-doc-link:hover,\n",
       ".sk-estimator-doc-link:hover {\n",
       "  /* unfitted */\n",
       "  background-color: var(--sklearn-color-unfitted-level-3);\n",
       "  color: var(--sklearn-color-background);\n",
       "  text-decoration: none;\n",
       "}\n",
       "\n",
       "div.sk-estimator.fitted:hover .sk-estimator-doc-link.fitted:hover,\n",
       ".sk-estimator-doc-link.fitted:hover,\n",
       "div.sk-label-container:hover .sk-estimator-doc-link.fitted:hover,\n",
       ".sk-estimator-doc-link.fitted:hover {\n",
       "  /* fitted */\n",
       "  background-color: var(--sklearn-color-fitted-level-3);\n",
       "  color: var(--sklearn-color-background);\n",
       "  text-decoration: none;\n",
       "}\n",
       "\n",
       "/* Span, style for the box shown on hovering the info icon */\n",
       ".sk-estimator-doc-link span {\n",
       "  display: none;\n",
       "  z-index: 9999;\n",
       "  position: relative;\n",
       "  font-weight: normal;\n",
       "  right: .2ex;\n",
       "  padding: .5ex;\n",
       "  margin: .5ex;\n",
       "  width: min-content;\n",
       "  min-width: 20ex;\n",
       "  max-width: 50ex;\n",
       "  color: var(--sklearn-color-text);\n",
       "  box-shadow: 2pt 2pt 4pt #999;\n",
       "  /* unfitted */\n",
       "  background: var(--sklearn-color-unfitted-level-0);\n",
       "  border: .5pt solid var(--sklearn-color-unfitted-level-3);\n",
       "}\n",
       "\n",
       ".sk-estimator-doc-link.fitted span {\n",
       "  /* fitted */\n",
       "  background: var(--sklearn-color-fitted-level-0);\n",
       "  border: var(--sklearn-color-fitted-level-3);\n",
       "}\n",
       "\n",
       ".sk-estimator-doc-link:hover span {\n",
       "  display: block;\n",
       "}\n",
       "\n",
       "/* \"?\"-specific style due to the `<a>` HTML tag */\n",
       "\n",
       "#sk-container-id-4 a.estimator_doc_link {\n",
       "  float: right;\n",
       "  font-size: 1rem;\n",
       "  line-height: 1em;\n",
       "  font-family: monospace;\n",
       "  background-color: var(--sklearn-color-background);\n",
       "  border-radius: 1rem;\n",
       "  height: 1rem;\n",
       "  width: 1rem;\n",
       "  text-decoration: none;\n",
       "  /* unfitted */\n",
       "  color: var(--sklearn-color-unfitted-level-1);\n",
       "  border: var(--sklearn-color-unfitted-level-1) 1pt solid;\n",
       "}\n",
       "\n",
       "#sk-container-id-4 a.estimator_doc_link.fitted {\n",
       "  /* fitted */\n",
       "  border: var(--sklearn-color-fitted-level-1) 1pt solid;\n",
       "  color: var(--sklearn-color-fitted-level-1);\n",
       "}\n",
       "\n",
       "/* On hover */\n",
       "#sk-container-id-4 a.estimator_doc_link:hover {\n",
       "  /* unfitted */\n",
       "  background-color: var(--sklearn-color-unfitted-level-3);\n",
       "  color: var(--sklearn-color-background);\n",
       "  text-decoration: none;\n",
       "}\n",
       "\n",
       "#sk-container-id-4 a.estimator_doc_link.fitted:hover {\n",
       "  /* fitted */\n",
       "  background-color: var(--sklearn-color-fitted-level-3);\n",
       "}\n",
       "</style><div id=\"sk-container-id-4\" class=\"sk-top-container\"><div class=\"sk-text-repr-fallback\"><pre>RandomForestRegressor(max_depth=20, max_features=&#x27;sqrt&#x27;, n_estimators=1000)</pre><b>In a Jupyter environment, please rerun this cell to show the HTML representation or trust the notebook. <br />On GitHub, the HTML representation is unable to render, please try loading this page with nbviewer.org.</b></div><div class=\"sk-container\" hidden><div class=\"sk-item\"><div class=\"sk-estimator fitted sk-toggleable\"><input class=\"sk-toggleable__control sk-hidden--visually\" id=\"sk-estimator-id-4\" type=\"checkbox\" checked><label for=\"sk-estimator-id-4\" class=\"sk-toggleable__label fitted sk-toggleable__label-arrow fitted\">&nbsp;&nbsp;RandomForestRegressor<a class=\"sk-estimator-doc-link fitted\" rel=\"noreferrer\" target=\"_blank\" href=\"https://scikit-learn.org/1.5/modules/generated/sklearn.ensemble.RandomForestRegressor.html\">?<span>Documentation for RandomForestRegressor</span></a><span class=\"sk-estimator-doc-link fitted\">i<span>Fitted</span></span></label><div class=\"sk-toggleable__content fitted\"><pre>RandomForestRegressor(max_depth=20, max_features=&#x27;sqrt&#x27;, n_estimators=1000)</pre></div> </div></div></div></div>"
      ],
      "text/plain": [
       "RandomForestRegressor(max_depth=20, max_features='sqrt', n_estimators=1000)"
      ]
     },
     "execution_count": 61,
     "metadata": {},
     "output_type": "execute_result"
    }
   ],
   "source": [
    "best_model = RandomForestRegressor(n_estimators= 1000, min_samples_split= 2, min_samples_leaf= 1, max_features= 'sqrt', max_depth= 20, bootstrap= True)\n",
    "best_model.fit(X, y)"
   ]
  },
  {
   "cell_type": "markdown",
   "id": "b7620497",
   "metadata": {
    "papermill": {
     "duration": 0.050538,
     "end_time": "2025-05-24T00:00:45.758301",
     "exception": false,
     "start_time": "2025-05-24T00:00:45.707763",
     "status": "completed"
    },
    "tags": []
   },
   "source": [
    "## Create future year inputs"
   ]
  },
  {
   "cell_type": "code",
   "execution_count": 62,
   "id": "6bb214e4",
   "metadata": {
    "execution": {
     "iopub.execute_input": "2025-05-24T00:00:45.835657Z",
     "iopub.status.busy": "2025-05-24T00:00:45.835011Z",
     "iopub.status.idle": "2025-05-24T00:00:45.854177Z",
     "shell.execute_reply": "2025-05-24T00:00:45.852582Z"
    },
    "papermill": {
     "duration": 0.05559,
     "end_time": "2025-05-24T00:00:45.856504",
     "exception": false,
     "start_time": "2025-05-24T00:00:45.800914",
     "status": "completed"
    },
    "tags": []
   },
   "outputs": [],
   "source": [
    "future_years = pd.DataFrame({'year': list(range(2024, 2031))})\n",
    "future_preds = best_model.predict(future_years)"
   ]
  },
  {
   "cell_type": "code",
   "execution_count": 63,
   "id": "9526af30",
   "metadata": {},
   "outputs": [
    {
     "data": {
      "text/html": [
       "<div>\n",
       "<style scoped>\n",
       "    .dataframe tbody tr th:only-of-type {\n",
       "        vertical-align: middle;\n",
       "    }\n",
       "\n",
       "    .dataframe tbody tr th {\n",
       "        vertical-align: top;\n",
       "    }\n",
       "\n",
       "    .dataframe thead th {\n",
       "        text-align: right;\n",
       "    }\n",
       "</style>\n",
       "<table border=\"1\" class=\"dataframe\">\n",
       "  <thead>\n",
       "    <tr style=\"text-align: right;\">\n",
       "      <th></th>\n",
       "      <th>year</th>\n",
       "    </tr>\n",
       "  </thead>\n",
       "  <tbody>\n",
       "    <tr>\n",
       "      <th>0</th>\n",
       "      <td>2024</td>\n",
       "    </tr>\n",
       "    <tr>\n",
       "      <th>1</th>\n",
       "      <td>2025</td>\n",
       "    </tr>\n",
       "    <tr>\n",
       "      <th>2</th>\n",
       "      <td>2026</td>\n",
       "    </tr>\n",
       "    <tr>\n",
       "      <th>3</th>\n",
       "      <td>2027</td>\n",
       "    </tr>\n",
       "    <tr>\n",
       "      <th>4</th>\n",
       "      <td>2028</td>\n",
       "    </tr>\n",
       "    <tr>\n",
       "      <th>5</th>\n",
       "      <td>2029</td>\n",
       "    </tr>\n",
       "    <tr>\n",
       "      <th>6</th>\n",
       "      <td>2030</td>\n",
       "    </tr>\n",
       "  </tbody>\n",
       "</table>\n",
       "</div>"
      ],
      "text/plain": [
       "   year\n",
       "0  2024\n",
       "1  2025\n",
       "2  2026\n",
       "3  2027\n",
       "4  2028\n",
       "5  2029\n",
       "6  2030"
      ]
     },
     "execution_count": 63,
     "metadata": {},
     "output_type": "execute_result"
    }
   ],
   "source": [
    "future_years"
   ]
  },
  {
   "cell_type": "markdown",
   "id": "fd1bf265",
   "metadata": {
    "papermill": {
     "duration": 0.025743,
     "end_time": "2025-05-24T00:00:45.906634",
     "exception": false,
     "start_time": "2025-05-24T00:00:45.880891",
     "status": "completed"
    },
    "tags": []
   },
   "source": [
    "## Combine historical and future into a single DataFrame"
   ]
  },
  {
   "cell_type": "code",
   "execution_count": 64,
   "id": "77c15b53",
   "metadata": {
    "execution": {
     "iopub.execute_input": "2025-05-24T00:00:45.953980Z",
     "iopub.status.busy": "2025-05-24T00:00:45.953467Z",
     "iopub.status.idle": "2025-05-24T00:00:45.965766Z",
     "shell.execute_reply": "2025-05-24T00:00:45.964401Z"
    },
    "papermill": {
     "duration": 0.039703,
     "end_time": "2025-05-24T00:00:45.968087",
     "exception": false,
     "start_time": "2025-05-24T00:00:45.928384",
     "status": "completed"
    },
    "tags": []
   },
   "outputs": [],
   "source": [
    "historical_df = X.copy()\n",
    "historical_df['total_sales'] = y\n",
    "historical_df['type'] = 'Historical'\n",
    "\n",
    "future_df = future_years.copy()\n",
    "future_df['total_sales'] = future_preds\n",
    "future_df['type'] = 'Forecast'\n",
    "\n",
    "combined_df = pd.concat([historical_df, future_df], axis=0).reset_index(drop=True)"
   ]
  },
  {
   "cell_type": "code",
   "execution_count": 65,
   "id": "51f11944",
   "metadata": {},
   "outputs": [
    {
     "data": {
      "text/html": [
       "<div>\n",
       "<style scoped>\n",
       "    .dataframe tbody tr th:only-of-type {\n",
       "        vertical-align: middle;\n",
       "    }\n",
       "\n",
       "    .dataframe tbody tr th {\n",
       "        vertical-align: top;\n",
       "    }\n",
       "\n",
       "    .dataframe thead th {\n",
       "        text-align: right;\n",
       "    }\n",
       "</style>\n",
       "<table border=\"1\" class=\"dataframe\">\n",
       "  <thead>\n",
       "    <tr style=\"text-align: right;\">\n",
       "      <th></th>\n",
       "      <th>year</th>\n",
       "      <th>total_sales</th>\n",
       "      <th>type</th>\n",
       "    </tr>\n",
       "  </thead>\n",
       "  <tbody>\n",
       "    <tr>\n",
       "      <th>0</th>\n",
       "      <td>2010</td>\n",
       "      <td>1.748100e+04</td>\n",
       "      <td>Historical</td>\n",
       "    </tr>\n",
       "    <tr>\n",
       "      <th>1</th>\n",
       "      <td>2011</td>\n",
       "      <td>1.167450e+05</td>\n",
       "      <td>Historical</td>\n",
       "    </tr>\n",
       "    <tr>\n",
       "      <th>2</th>\n",
       "      <td>2012</td>\n",
       "      <td>2.859100e+05</td>\n",
       "      <td>Historical</td>\n",
       "    </tr>\n",
       "    <tr>\n",
       "      <th>3</th>\n",
       "      <td>2013</td>\n",
       "      <td>5.103340e+05</td>\n",
       "      <td>Historical</td>\n",
       "    </tr>\n",
       "    <tr>\n",
       "      <th>4</th>\n",
       "      <td>2014</td>\n",
       "      <td>8.107122e+05</td>\n",
       "      <td>Historical</td>\n",
       "    </tr>\n",
       "    <tr>\n",
       "      <th>5</th>\n",
       "      <td>2015</td>\n",
       "      <td>1.412771e+06</td>\n",
       "      <td>Historical</td>\n",
       "    </tr>\n",
       "    <tr>\n",
       "      <th>6</th>\n",
       "      <td>2016</td>\n",
       "      <td>1.852523e+06</td>\n",
       "      <td>Historical</td>\n",
       "    </tr>\n",
       "    <tr>\n",
       "      <th>7</th>\n",
       "      <td>2017</td>\n",
       "      <td>2.825756e+06</td>\n",
       "      <td>Historical</td>\n",
       "    </tr>\n",
       "    <tr>\n",
       "      <th>8</th>\n",
       "      <td>2018</td>\n",
       "      <td>4.735114e+06</td>\n",
       "      <td>Historical</td>\n",
       "    </tr>\n",
       "    <tr>\n",
       "      <th>9</th>\n",
       "      <td>2019</td>\n",
       "      <td>5.177232e+06</td>\n",
       "      <td>Historical</td>\n",
       "    </tr>\n",
       "    <tr>\n",
       "      <th>10</th>\n",
       "      <td>2020</td>\n",
       "      <td>8.412203e+06</td>\n",
       "      <td>Historical</td>\n",
       "    </tr>\n",
       "    <tr>\n",
       "      <th>11</th>\n",
       "      <td>2021</td>\n",
       "      <td>1.720906e+07</td>\n",
       "      <td>Historical</td>\n",
       "    </tr>\n",
       "    <tr>\n",
       "      <th>12</th>\n",
       "      <td>2022</td>\n",
       "      <td>2.515004e+07</td>\n",
       "      <td>Historical</td>\n",
       "    </tr>\n",
       "    <tr>\n",
       "      <th>13</th>\n",
       "      <td>2023</td>\n",
       "      <td>3.309887e+07</td>\n",
       "      <td>Historical</td>\n",
       "    </tr>\n",
       "    <tr>\n",
       "      <th>14</th>\n",
       "      <td>2024</td>\n",
       "      <td>2.898677e+07</td>\n",
       "      <td>Forecast</td>\n",
       "    </tr>\n",
       "    <tr>\n",
       "      <th>15</th>\n",
       "      <td>2025</td>\n",
       "      <td>2.898677e+07</td>\n",
       "      <td>Forecast</td>\n",
       "    </tr>\n",
       "    <tr>\n",
       "      <th>16</th>\n",
       "      <td>2026</td>\n",
       "      <td>2.898677e+07</td>\n",
       "      <td>Forecast</td>\n",
       "    </tr>\n",
       "    <tr>\n",
       "      <th>17</th>\n",
       "      <td>2027</td>\n",
       "      <td>2.898677e+07</td>\n",
       "      <td>Forecast</td>\n",
       "    </tr>\n",
       "    <tr>\n",
       "      <th>18</th>\n",
       "      <td>2028</td>\n",
       "      <td>2.898677e+07</td>\n",
       "      <td>Forecast</td>\n",
       "    </tr>\n",
       "    <tr>\n",
       "      <th>19</th>\n",
       "      <td>2029</td>\n",
       "      <td>2.898677e+07</td>\n",
       "      <td>Forecast</td>\n",
       "    </tr>\n",
       "    <tr>\n",
       "      <th>20</th>\n",
       "      <td>2030</td>\n",
       "      <td>2.898677e+07</td>\n",
       "      <td>Forecast</td>\n",
       "    </tr>\n",
       "  </tbody>\n",
       "</table>\n",
       "</div>"
      ],
      "text/plain": [
       "    year   total_sales        type\n",
       "0   2010  1.748100e+04  Historical\n",
       "1   2011  1.167450e+05  Historical\n",
       "2   2012  2.859100e+05  Historical\n",
       "3   2013  5.103340e+05  Historical\n",
       "4   2014  8.107122e+05  Historical\n",
       "5   2015  1.412771e+06  Historical\n",
       "6   2016  1.852523e+06  Historical\n",
       "7   2017  2.825756e+06  Historical\n",
       "8   2018  4.735114e+06  Historical\n",
       "9   2019  5.177232e+06  Historical\n",
       "10  2020  8.412203e+06  Historical\n",
       "11  2021  1.720906e+07  Historical\n",
       "12  2022  2.515004e+07  Historical\n",
       "13  2023  3.309887e+07  Historical\n",
       "14  2024  2.898677e+07    Forecast\n",
       "15  2025  2.898677e+07    Forecast\n",
       "16  2026  2.898677e+07    Forecast\n",
       "17  2027  2.898677e+07    Forecast\n",
       "18  2028  2.898677e+07    Forecast\n",
       "19  2029  2.898677e+07    Forecast\n",
       "20  2030  2.898677e+07    Forecast"
      ]
     },
     "execution_count": 65,
     "metadata": {},
     "output_type": "execute_result"
    }
   ],
   "source": [
    "combined_df"
   ]
  },
  {
   "cell_type": "markdown",
   "id": "2cc9ec22",
   "metadata": {
    "papermill": {
     "duration": 0.023832,
     "end_time": "2025-05-24T00:00:46.022851",
     "exception": false,
     "start_time": "2025-05-24T00:00:45.999019",
     "status": "completed"
    },
    "tags": []
   },
   "source": [
    "## Plot both together"
   ]
  },
  {
   "cell_type": "code",
   "execution_count": 66,
   "id": "73bfba28",
   "metadata": {
    "execution": {
     "iopub.execute_input": "2025-05-24T00:00:46.073256Z",
     "iopub.status.busy": "2025-05-24T00:00:46.072924Z",
     "iopub.status.idle": "2025-05-24T00:00:46.481276Z",
     "shell.execute_reply": "2025-05-24T00:00:46.480217Z"
    },
    "papermill": {
     "duration": 0.438163,
     "end_time": "2025-05-24T00:00:46.484657",
     "exception": false,
     "start_time": "2025-05-24T00:00:46.046494",
     "status": "completed"
    },
    "tags": []
   },
   "outputs": [
    {
     "data": {
      "image/png": "[encoded data removed]",
      "text/plain": [
       "<Figure size 1200x600 with 1 Axes>"
      ]
     },
     "metadata": {},
     "output_type": "display_data"
    }
   ],
   "source": [
    "plt.figure(figsize=(12, 6))\n",
    "sns.lineplot(data=combined_df, x='year', y='total_sales', hue='type', marker='o')\n",
    "plt.title(\"Global EV Sales Forecast (2010–2030)\")\n",
    "plt.xlabel(\"Year\")\n",
    "plt.ylabel(\"EV Sales (Vehicles)\")\n",
    "plt.grid(True)\n",
    "plt.tight_layout()\n",
    "plt.show()"
   ]
  },
  {
   "cell_type": "markdown",
   "id": "0ec3b3d8",
   "metadata": {
    "papermill": {
     "duration": 0.025849,
     "end_time": "2025-05-24T00:02:01.426640",
     "exception": false,
     "start_time": "2025-05-24T00:02:01.400791",
     "status": "completed"
    },
    "tags": []
   },
   "source": [
    "# Step 6: Result Interpretation & Visual Evaluation"
   ]
  },
  {
   "cell_type": "markdown",
   "id": "0d852c44",
   "metadata": {
    "papermill": {
     "duration": 0.028253,
     "end_time": "2025-05-24T00:02:01.482733",
     "exception": false,
     "start_time": "2025-05-24T00:02:01.454480",
     "status": "completed"
    },
    "tags": []
   },
   "source": [
    "## 7. ML – Actual vs Predicted (Best Model: Random Forest)"
   ]
  },
  {
   "cell_type": "markdown",
   "id": "9f7a3d46",
   "metadata": {
    "papermill": {
     "duration": 0.025731,
     "end_time": "2025-05-24T00:02:01.534693",
     "exception": false,
     "start_time": "2025-05-24T00:02:01.508962",
     "status": "completed"
    },
    "tags": []
   },
   "source": [
    "### Predict using Random Forest on full dataset"
   ]
  },
  {
   "cell_type": "code",
   "execution_count": 67,
   "id": "80081398",
   "metadata": {
    "execution": {
     "iopub.execute_input": "2025-05-24T00:02:01.592408Z",
     "iopub.status.busy": "2025-05-24T00:02:01.592029Z",
     "iopub.status.idle": "2025-05-24T00:02:01.725196Z",
     "shell.execute_reply": "2025-05-24T00:02:01.724205Z"
    },
    "papermill": {
     "duration": 0.164969,
     "end_time": "2025-05-24T00:02:01.727221",
     "exception": false,
     "start_time": "2025-05-24T00:02:01.562252",
     "status": "completed"
    },
    "tags": []
   },
   "outputs": [],
   "source": [
    "rf_model = RandomForestRegressor()\n",
    "rf_model.fit(X, y)\n",
    "y_rf_pred = rf_model.predict(X)"
   ]
  },
  {
   "cell_type": "markdown",
   "id": "76dad003",
   "metadata": {
    "papermill": {
     "duration": 0.026295,
     "end_time": "2025-05-24T00:02:01.782180",
     "exception": false,
     "start_time": "2025-05-24T00:02:01.755885",
     "status": "completed"
    },
    "tags": []
   },
   "source": [
    "### Plot actual vs predicted"
   ]
  },
  {
   "cell_type": "code",
   "execution_count": 68,
   "id": "e4ff3dd1",
   "metadata": {
    "execution": {
     "iopub.execute_input": "2025-05-24T00:02:01.835573Z",
     "iopub.status.busy": "2025-05-24T00:02:01.835273Z",
     "iopub.status.idle": "2025-05-24T00:02:02.130170Z",
     "shell.execute_reply": "2025-05-24T00:02:02.129143Z"
    },
    "papermill": {
     "duration": 0.323683,
     "end_time": "2025-05-24T00:02:02.132684",
     "exception": false,
     "start_time": "2025-05-24T00:02:01.809001",
     "status": "completed"
    },
    "tags": []
   },
   "outputs": [
    {
     "data": {
      "image/png": "[encoded data removed]",
      "text/plain": [
       "<Figure size 1200x600 with 1 Axes>"
      ]
     },
     "metadata": {},
     "output_type": "display_data"
    }
   ],
   "source": [
    "plt.figure(figsize=(12, 6))\n",
    "plt.plot(X['year'], y, label='Actual Sales', marker='o')\n",
    "plt.plot(X['year'], y_rf_pred, label='RF Predicted', marker='o', linestyle='--')\n",
    "plt.title(\"Random Forest: Actual vs Predicted EV Sales\")\n",
    "plt.xlabel(\"Year\")\n",
    "plt.ylabel(\"Total EV Sales\")\n",
    "plt.legend()\n",
    "plt.grid(True)\n",
    "plt.tight_layout()\n",
    "plt.show()"
   ]
  },
  {
   "cell_type": "markdown",
   "id": "e26f09f8",
   "metadata": {},
   "source": [
    "# Step 5: Deep Learning Models"
   ]
  },
  {
   "cell_type": "markdown",
   "id": "ec882b46",
   "metadata": {},
   "source": [
    "## Prepare Data for Deep Learning"
   ]
  },
  {
   "cell_type": "markdown",
   "id": "1850cab1",
   "metadata": {},
   "source": [
    "### Use yearly total EV sales data"
   ]
  },
  {
   "cell_type": "code",
   "execution_count": 71,
   "id": "1cf0fff4",
   "metadata": {},
   "outputs": [],
   "source": [
    "dl_df = df[df['parameter'] == 'EV sales'].groupby('year')['value'].sum().reset_index()\n",
    "dl_df.rename(columns={'value': 'total_sales'}, inplace=True)\n"
   ]
  },
  {
   "cell_type": "markdown",
   "id": "ef1be8bc",
   "metadata": {},
   "source": [
    "### Normalize data"
   ]
  },
  {
   "cell_type": "code",
   "execution_count": 72,
   "id": "4c55d6a5",
   "metadata": {},
   "outputs": [],
   "source": [
    "scaler = MinMaxScaler()\n",
    "scaled_sales = scaler.fit_transform(dl_df[['total_sales']])"
   ]
  },
  {
   "cell_type": "markdown",
   "id": "86dbaee8",
   "metadata": {},
   "source": [
    "### Create sequences (window size = 3 years)"
   ]
  },
  {
   "cell_type": "code",
   "execution_count": 73,
   "id": "4c2dc669",
   "metadata": {},
   "outputs": [],
   "source": [
    "X_dl, y_dl = [], []\n",
    "window = 3\n",
    "for i in range(window, len(scaled_sales)):\n",
    "    X_dl.append(scaled_sales[i-window:i])\n",
    "    y_dl.append(scaled_sales[i])\n",
    "\n",
    "X_dl, y_dl = np.array(X_dl), np.array(y_dl)"
   ]
  },
  {
   "cell_type": "markdown",
   "id": "dc13d70e",
   "metadata": {},
   "source": [
    "### Split to train/test (80% train)"
   ]
  },
  {
   "cell_type": "code",
   "execution_count": 74,
   "id": "25354e5a",
   "metadata": {},
   "outputs": [],
   "source": [
    "split = int(0.8 * len(X_dl))\n",
    "X_train_dl, X_test_dl = X_dl[:split], X_dl[split:]\n",
    "y_train_dl, y_test_dl = y_dl[:split], y_dl[split:]"
   ]
  },
  {
   "cell_type": "markdown",
   "id": "d1ec6283",
   "metadata": {},
   "source": [
    "## LSTM Model"
   ]
  },
  {
   "cell_type": "markdown",
   "id": "2bf8f81a",
   "metadata": {},
   "source": [
    "### Reshape for LSTM input"
   ]
  },
  {
   "cell_type": "code",
   "execution_count": 75,
   "id": "8d6db859",
   "metadata": {},
   "outputs": [],
   "source": [
    "X_train_lstm = X_train_dl.reshape((X_train_dl.shape[0], X_train_dl.shape[1], 1))\n",
    "X_test_lstm = X_test_dl.reshape((X_test_dl.shape[0], X_test_dl.shape[1], 1))\n"
   ]
  },
  {
   "cell_type": "markdown",
   "id": "de526aec",
   "metadata": {},
   "source": [
    "### Build LSTM model"
   ]
  },
  {
   "cell_type": "code",
   "execution_count": 76,
   "id": "fbafec70",
   "metadata": {},
   "outputs": [],
   "source": [
    "model_lstm = Sequential([\n",
    "    LSTM(64, activation='tanh', input_shape=(X_train_lstm.shape[1], 1)),\n",
    "    Dense(1)\n",
    "])\n",
    "\n",
    "model_lstm.compile(optimizer='adam', loss='mse')\n",
    "history_lstm = model_lstm.fit(X_train_lstm, y_train_dl, epochs=200, verbose=0, validation_data=(X_test_lstm, y_test_dl))"
   ]
  },
  {
   "cell_type": "markdown",
   "id": "9e20860f",
   "metadata": {},
   "source": [
    "## Compare Loss Plots"
   ]
  },
  {
   "cell_type": "code",
   "execution_count": 77,
   "id": "89455f64",
   "metadata": {},
   "outputs": [
    {
     "data": {
      "image/png": "[encoded data removed]",
      "text/plain": [
       "<Figure size 1200x600 with 1 Axes>"
      ]
     },
     "metadata": {},
     "output_type": "display_data"
    }
   ],
   "source": [
    "plt.figure(figsize=(12, 6))\n",
    "plt.plot(history_lstm.history['val_loss'], label='LSTM')\n",
    "plt.title('Validation Loss Comparison')\n",
    "plt.xlabel('Epoch')\n",
    "plt.ylabel('Loss (MSE)')\n",
    "plt.legend()\n",
    "plt.grid(True)\n",
    "plt.tight_layout()\n",
    "plt.show()"
   ]
  },
  {
   "cell_type": "markdown",
   "id": "0a75e2e2",
   "metadata": {},
   "source": [
    "# Step 6: Forecast Future EV Sales (2024–2030) with LSTM"
   ]
  },
  {
   "cell_type": "markdown",
   "id": "3f54b964",
   "metadata": {},
   "source": [
    "## Normalize data"
   ]
  },
  {
   "cell_type": "code",
   "execution_count": 78,
   "id": "207490b7",
   "metadata": {},
   "outputs": [],
   "source": [
    "dl_df = df[df['parameter'] == 'EV sales'].groupby('year')['value'].sum().reset_index()\n",
    "dl_df.rename(columns={'value': 'total_sales'}, inplace=True)\n",
    "\n",
    "scaler = MinMaxScaler()\n",
    "scaled_sales = scaler.fit_transform(dl_df[['total_sales']])\n"
   ]
  },
  {
   "cell_type": "markdown",
   "id": "dc2ddf12",
   "metadata": {},
   "source": [
    "## Predict future years using trained LSTM"
   ]
  },
  {
   "cell_type": "code",
   "execution_count": 79,
   "id": "2aa45d50",
   "metadata": {},
   "outputs": [],
   "source": [
    "last_sequence = scaled_sales[-3:]  # Last 3 years for prediction window\n",
    "predictions_scaled = []\n",
    "\n",
    "for _ in range(7):  # Predict 2024–2030\n",
    "    input_seq = last_sequence[-3:].reshape(1, 3, 1)\n",
    "    pred = model_lstm.predict(input_seq, verbose=0)\n",
    "    predictions_scaled.append(pred[0][0])\n",
    "    last_sequence = np.append(last_sequence, pred[0][0])"
   ]
  },
  {
   "cell_type": "markdown",
   "id": "750a39c5",
   "metadata": {},
   "source": [
    "## Inverse transform to get real values"
   ]
  },
  {
   "cell_type": "code",
   "execution_count": 80,
   "id": "6fab8b3c",
   "metadata": {},
   "outputs": [],
   "source": [
    "predicted_values = scaler.inverse_transform(np.array(predictions_scaled).reshape(-1, 1)).flatten()"
   ]
  },
  {
   "cell_type": "markdown",
   "id": "bca6ab7b",
   "metadata": {},
   "source": [
    "## Create forecast years"
   ]
  },
  {
   "cell_type": "code",
   "execution_count": 81,
   "id": "be8b8002",
   "metadata": {},
   "outputs": [],
   "source": [
    "forecast_years = list(range(2024, 2031))\n",
    "actual_years = dl_df['year']\n",
    "actual_values = dl_df['total_sales']\n"
   ]
  },
  {
   "cell_type": "markdown",
   "id": "41ab52f5",
   "metadata": {},
   "source": [
    "## Plot actual vs forecast"
   ]
  },
  {
   "cell_type": "code",
   "execution_count": 82,
   "id": "bfadeb0b",
   "metadata": {},
   "outputs": [
    {
     "data": {
      "image/png": "[encoded data removed]",
      "text/plain": [
       "<Figure size 1200x600 with 1 Axes>"
      ]
     },
     "metadata": {},
     "output_type": "display_data"
    }
   ],
   "source": [
    "plt.figure(figsize=(12, 6))\n",
    "plt.plot(actual_years, actual_values, marker='o', label='Actual Sales')\n",
    "plt.plot(forecast_years, predicted_values, marker='o', linestyle='--', label='LSTM Forecast')\n",
    "plt.axvline(x=2023.5, color='red', linestyle='--', label='Forecast Start')\n",
    "plt.title(\"EV Sales Forecast using LSTM (2024–2030)\")\n",
    "plt.xlabel(\"Year\")\n",
    "plt.ylabel(\"EV Sales (Vehicles)\")\n",
    "plt.legend()\n",
    "plt.grid(True)\n",
    "plt.tight_layout()\n",
    "plt.show()"
   ]
  },
  {
   "cell_type": "markdown",
   "id": "e602cc33",
   "metadata": {},
   "source": [
    "# Save Model"
   ]
  },
  {
   "cell_type": "code",
   "execution_count": 84,
   "id": "12f2ddc0",
   "metadata": {},
   "outputs": [],
   "source": [
    "model_lstm.save('lstm_model.keras')"
   ]
  }
 ],
 "metadata": {
  "kaggle": {
   "accelerator": "none",
   "dataSources": [
    {
     "datasetId": 7362722,
     "sourceId": 11729103,
     "sourceType": "datasetVersion"
    }
   ],
   "dockerImageVersionId": 31040,
   "isGpuEnabled": false,
   "isInternetEnabled": true,
   "language": "python",
   "sourceType": "notebook"
  },
  "kernelspec": {
   "display_name": "Python 3",
   "language": "python",
   "name": "python3"
  },
  "language_info": {
   "codemirror_mode": {
    "name": "ipython",
    "version": 3
   },
   "file_extension": ".py",
   "mimetype": "text/x-python",
   "name": "python",
   "nbconvert_exporter": "python",
   "pygments_lexer": "ipython3",
   "version": "3.12.3"
  },
  "papermill": {
   "default_parameters": {},
   "duration": 127.411994,
   "end_time": "2025-05-24T00:02:06.073663",
   "environment_variables": {},
   "exception": null,
   "input_path": "__notebook__.ipynb",
   "output_path": "__notebook__.ipynb",
   "parameters": {},
   "start_time": "2025-05-23T23:59:58.661669",
   "version": "2.6.0"
  }
 },
 "nbformat": 4,
 "nbformat_minor": 5
}
